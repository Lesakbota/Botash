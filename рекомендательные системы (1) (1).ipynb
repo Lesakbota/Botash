{
 "cells": [
  {
   "cell_type": "code",
   "execution_count": 1,
   "id": "444c2e1d-5b7f-40d5-9bd4-c699118ceda7",
   "metadata": {},
   "outputs": [],
   "source": [
    "import pandas as pd\n",
    "df = pd.read_csv('data_fin.csv', sep=';')\n"
   ]
  },
  {
   "cell_type": "code",
   "execution_count": 2,
   "id": "43287b4f-fffa-4ada-b57f-0eb156e07f2d",
   "metadata": {},
   "outputs": [
    {
     "name": "stdout",
     "output_type": "stream",
     "text": [
      "<class 'pandas.core.frame.DataFrame'>\n",
      "RangeIndex: 100480507 entries, 0 to 100480506\n",
      "Data columns (total 3 columns):\n",
      " #   Column    Dtype  \n",
      "---  ------    -----  \n",
      " 0   Cust_Id   int64  \n",
      " 1   Rating    float64\n",
      " 2   Movie_Id  int64  \n",
      "dtypes: float64(1), int64(2)\n",
      "memory usage: 2.2 GB\n"
     ]
    }
   ],
   "source": [
    "df.info()"
   ]
  },
  {
   "cell_type": "code",
   "execution_count": 3,
   "id": "93d4cb02-fa30-4046-8aa1-103c851f4175",
   "metadata": {},
   "outputs": [],
   "source": [
    "#ең жоғары рейтингі (5) бар жазбаларды алып, оларды \"Cust_Id\" бойынша біріктіреміз\n",
    "good = df[df['Rating']==5].groupby('Cust_Id')['Movie_Id'].apply(lambda r: ' '.join([str(A) for A in r]))"
   ]
  },
  {
   "cell_type": "code",
   "execution_count": 4,
   "id": "0822baeb-270b-413b-b4b1-1338c8531592",
   "metadata": {},
   "outputs": [
    {
     "data": {
      "text/plain": [
       "Cust_Id\n",
       "6     175 457 886 1467 2372 2452 2782 3290 4043 4633...\n",
       "7     8 30 83 175 257 283 285 313 357 457 458 468 50...\n",
       "8     1202 1799 1905 2186 3610 3925 4306 5054 5317 5...\n",
       "10    473 985 1542 1905 2172 3124 3371 3962 4043 430...\n",
       "25                4432 6786 7605 9326 10643 15107 15270\n",
       "Name: Movie_Id, dtype: object"
      ]
     },
     "execution_count": 4,
     "metadata": {},
     "output_type": "execute_result"
    }
   ],
   "source": [
    "good.head()\n"
   ]
  },
  {
   "cell_type": "code",
   "execution_count": 5,
   "id": "0f9fb76c-3a28-492a-849d-e3817962dfaf",
   "metadata": {},
   "outputs": [
    {
     "name": "stdout",
     "output_type": "stream",
     "text": [
      "Collecting apyori\n",
      "  Downloading apyori-1.1.2.tar.gz (8.6 kB)\n",
      "  Preparing metadata (setup.py): started\n",
      "  Preparing metadata (setup.py): finished with status 'done'\n",
      "Building wheels for collected packages: apyori\n",
      "  Building wheel for apyori (setup.py): started\n",
      "  Building wheel for apyori (setup.py): finished with status 'done'\n",
      "  Created wheel for apyori: filename=apyori-1.1.2-py3-none-any.whl size=5974 sha256=b1e63c03ec510d5394ddf88b9a5fcddd89d4839011f3c9d4286933955229f430\n",
      "  Stored in directory: c:\\users\\14ken\\appdata\\local\\pip\\cache\\wheels\\77\\3d\\a6\\d317a6fb32be58a602b1e8c6b5d6f31f79322da554cad2a5ea\n",
      "Successfully built apyori\n",
      "Installing collected packages: apyori\n",
      "Successfully installed apyori-1.1.2\n"
     ]
    }
   ],
   "source": [
    "!pip install apyori\n"
   ]
  },
  {
   "cell_type": "code",
   "execution_count": 6,
   "id": "de2a285e-1a92-4cbb-a424-066666fcc402",
   "metadata": {},
   "outputs": [],
   "source": [
    "import apyori\n",
    "association_rules = apyori.apriori(good.apply(lambda r: r.split(' ')), \n",
    "                                   min_support=0.04, \n",
    "                                   min_confidence=0.1, min_lift=2, \n",
    "                                   min_length=2)\n"
   ]
  },
  {
   "cell_type": "code",
   "execution_count": 7,
   "id": "21160544-168b-496c-87d5-28c93f310f32",
   "metadata": {},
   "outputs": [
    {
     "data": {
      "text/plain": [
       "<generator object apriori at 0x00000242A9E5CE00>"
      ]
     },
     "execution_count": 7,
     "metadata": {},
     "output_type": "execute_result"
    }
   ],
   "source": [
    "association_rules"
   ]
  },
  {
   "cell_type": "code",
   "execution_count": 8,
   "id": "f4f82b1c-40ca-4add-87ad-425f01fae97f",
   "metadata": {},
   "outputs": [],
   "source": [
    "# Ассоциативті ережелер сақталатын бос кесте жасаймыз\n",
    "asr_df = pd.DataFrame(columns = ['from', 'to', 'confidence', 'support', 'lift'])\n",
    "\n",
    "# Әрбір ассоциативті ережені өңдеу циклі\n",
    "for item in association_rules:\n",
    "    \n",
    "    pair = item[0]  # item[0] — ереженің алғышарты (antecedent), яғни from жағы\n",
    "    items = [x for x in pair]  # itemset-ті жеке элементтерге бөлеміз\n",
    "    \n",
    "    # Кестеге жаңа жол ретінде ереженің сипаттамаларын енгіземіз:\n",
    "    asr_df.loc[len(asr_df), :] =  ' '.join(list(item[2][0][0])), \\  # item[2][0][0] — from (сол жақ), пайдаланушы көрген фильмдер\n",
    "                                  ' '.join(list(item[2][0][1])), \\  # item[2][0][1] — to (оң жақ), ұсынылатын фильм\n",
    "                                  item[2][0][2], \\                  # item[2][0][2] — confidence мәні (сенімділік)\n",
    "                                  item[1], \\                        # item[1] — support мәні (жиі кездесу жиілігі)\n",
    "                                  item[2][0][3]                     # item[2][0][3] — lift мәні (тәуелділік күшін көрсетеді)\n"
   ]
  },
  {
   "cell_type": "code",
   "execution_count": 9,
   "id": "bce77cd1-58c2-4139-90fd-eb59bc39de43",
   "metadata": {},
   "outputs": [
    {
     "data": {
      "text/html": [
       "<div>\n",
       "<style scoped>\n",
       "    .dataframe tbody tr th:only-of-type {\n",
       "        vertical-align: middle;\n",
       "    }\n",
       "\n",
       "    .dataframe tbody tr th {\n",
       "        vertical-align: top;\n",
       "    }\n",
       "\n",
       "    .dataframe thead th {\n",
       "        text-align: right;\n",
       "    }\n",
       "</style>\n",
       "<table border=\"1\" class=\"dataframe\">\n",
       "  <thead>\n",
       "    <tr style=\"text-align: right;\">\n",
       "      <th></th>\n",
       "      <th>from</th>\n",
       "      <th>to</th>\n",
       "      <th>confidence</th>\n",
       "      <th>support</th>\n",
       "      <th>lift</th>\n",
       "    </tr>\n",
       "  </thead>\n",
       "  <tbody>\n",
       "    <tr>\n",
       "      <th>0</th>\n",
       "      <td>10042</td>\n",
       "      <td>10820</td>\n",
       "      <td>0.266215</td>\n",
       "      <td>0.041573</td>\n",
       "      <td>4.110222</td>\n",
       "    </tr>\n",
       "    <tr>\n",
       "      <th>1</th>\n",
       "      <td>10042</td>\n",
       "      <td>10947</td>\n",
       "      <td>0.351478</td>\n",
       "      <td>0.054888</td>\n",
       "      <td>2.421943</td>\n",
       "    </tr>\n",
       "    <tr>\n",
       "      <th>2</th>\n",
       "      <td>10042</td>\n",
       "      <td>11064</td>\n",
       "      <td>0.348135</td>\n",
       "      <td>0.054366</td>\n",
       "      <td>2.300702</td>\n",
       "    </tr>\n",
       "    <tr>\n",
       "      <th>3</th>\n",
       "      <td>10042</td>\n",
       "      <td>11089</td>\n",
       "      <td>0.331616</td>\n",
       "      <td>0.051786</td>\n",
       "      <td>2.488266</td>\n",
       "    </tr>\n",
       "    <tr>\n",
       "      <th>4</th>\n",
       "      <td>10042</td>\n",
       "      <td>11283</td>\n",
       "      <td>0.454613</td>\n",
       "      <td>0.070994</td>\n",
       "      <td>2.206234</td>\n",
       "    </tr>\n",
       "    <tr>\n",
       "      <th>...</th>\n",
       "      <td>...</td>\n",
       "      <td>...</td>\n",
       "      <td>...</td>\n",
       "      <td>...</td>\n",
       "      <td>...</td>\n",
       "    </tr>\n",
       "    <tr>\n",
       "      <th>2018</th>\n",
       "      <td>11521</td>\n",
       "      <td>5582 14961 7057 2452 7230 16265</td>\n",
       "      <td>0.199233</td>\n",
       "      <td>0.041485</td>\n",
       "      <td>4.630662</td>\n",
       "    </tr>\n",
       "    <tr>\n",
       "      <th>2019</th>\n",
       "      <td>11521</td>\n",
       "      <td>9628 5582 14961 7057 2452 7230</td>\n",
       "      <td>0.195898</td>\n",
       "      <td>0.04079</td>\n",
       "      <td>4.63469</td>\n",
       "    </tr>\n",
       "    <tr>\n",
       "      <th>2020</th>\n",
       "      <td>14240</td>\n",
       "      <td>5582 14961 7057 2452 7230 16265</td>\n",
       "      <td>0.208372</td>\n",
       "      <td>0.041711</td>\n",
       "      <td>4.843073</td>\n",
       "    </tr>\n",
       "    <tr>\n",
       "      <th>2021</th>\n",
       "      <td>14240</td>\n",
       "      <td>9628 5582 14961 7057 2452 7230</td>\n",
       "      <td>0.204569</td>\n",
       "      <td>0.04095</td>\n",
       "      <td>4.839831</td>\n",
       "    </tr>\n",
       "    <tr>\n",
       "      <th>2022</th>\n",
       "      <td>11521</td>\n",
       "      <td>5582 14961 7057 2452 7230 14240 16265</td>\n",
       "      <td>0.194634</td>\n",
       "      <td>0.040527</td>\n",
       "      <td>4.666226</td>\n",
       "    </tr>\n",
       "  </tbody>\n",
       "</table>\n",
       "<p>2023 rows × 5 columns</p>\n",
       "</div>"
      ],
      "text/plain": [
       "       from                                     to confidence   support  \\\n",
       "0     10042                                  10820   0.266215  0.041573   \n",
       "1     10042                                  10947   0.351478  0.054888   \n",
       "2     10042                                  11064   0.348135  0.054366   \n",
       "3     10042                                  11089   0.331616  0.051786   \n",
       "4     10042                                  11283   0.454613  0.070994   \n",
       "...     ...                                    ...        ...       ...   \n",
       "2018  11521        5582 14961 7057 2452 7230 16265   0.199233  0.041485   \n",
       "2019  11521         9628 5582 14961 7057 2452 7230   0.195898   0.04079   \n",
       "2020  14240        5582 14961 7057 2452 7230 16265   0.208372  0.041711   \n",
       "2021  14240         9628 5582 14961 7057 2452 7230   0.204569   0.04095   \n",
       "2022  11521  5582 14961 7057 2452 7230 14240 16265   0.194634  0.040527   \n",
       "\n",
       "          lift  \n",
       "0     4.110222  \n",
       "1     2.421943  \n",
       "2     2.300702  \n",
       "3     2.488266  \n",
       "4     2.206234  \n",
       "...        ...  \n",
       "2018  4.630662  \n",
       "2019   4.63469  \n",
       "2020  4.843073  \n",
       "2021  4.839831  \n",
       "2022  4.666226  \n",
       "\n",
       "[2023 rows x 5 columns]"
      ]
     },
     "execution_count": 9,
     "metadata": {},
     "output_type": "execute_result"
    }
   ],
   "source": [
    "asr_df     #ассоциативті ережелер сақталған DataFrame (яғни кесте)"
   ]
  },
  {
   "cell_type": "code",
   "execution_count": 12,
   "id": "f61ff377-89a3-40bf-afaa-e176d801e6b0",
   "metadata": {},
   "outputs": [],
   "source": [
    "titles = pd.read_csv(r'C:\\Users\\14ken\\мои работы\\data\\movie_titles.csv', \n",
    "                     encoding='ISO-8859-1',\n",
    "                     header=None,\n",
    "                     names=['Movie_Id', 'Year', 'Name'],\n",
    "                     on_bad_lines='skip')\n"
   ]
  },
  {
   "cell_type": "code",
   "execution_count": 13,
   "id": "25c24f1d-d6e0-43e5-b173-9f9805ca8d47",
   "metadata": {},
   "outputs": [],
   "source": [
    "def get_rule_title(rule):\n",
    "    # 'from' бағанындағы ID-лерді бөліп, атауларын шығарамыз\n",
    "    print(titles[titles.Movie_Id.isin(rule['from'].split(' '))]['Name'].values)\n",
    "    print('----------->')  # бөлгіш\n",
    "    # 'to' (ұсынылатын фильм) ID арқылы атауын шығарамыз\n",
    "    print(titles[titles.Movie_Id == int(rule['to'])]['Name'].values)\n"
   ]
  },
  {
   "cell_type": "code",
   "execution_count": 14,
   "id": "29faf529-7099-4aae-ba1b-72dc0271820b",
   "metadata": {},
   "outputs": [
    {
     "name": "stdout",
     "output_type": "stream",
     "text": [
      "[]\n",
      "----------->\n",
      "['Finding Nemo (Widescreen)']\n"
     ]
    }
   ],
   "source": [
    "# функция 99-шы ережеде қандай фильмдер ұсыныс жасағанын және қандай фильм ұсынылғанын көрсетеді.\n",
    "get_rule_title(asr_df.loc[99])"
   ]
  },
  {
   "cell_type": "code",
   "execution_count": 15,
   "id": "27655c65-c4ca-42c6-800e-4a5715d7d530",
   "metadata": {},
   "outputs": [
    {
     "data": {
      "text/plain": [
       "Series([], Name: Name, dtype: object)"
      ]
     },
     "execution_count": 15,
     "metadata": {},
     "output_type": "execute_result"
    }
   ],
   "source": [
    "#ID=159992 болатын кездейсоқ адам үшін ұсыныстар жасауға көшейік\n",
    "j = 159992\n",
    "titles[titles.Movie_Id.isin(good.iloc[j].split(' '))]['Name']\n"
   ]
  },
  {
   "cell_type": "code",
   "execution_count": 16,
   "id": "7bbfd284-48f9-4744-92a2-776d7e8a312f",
   "metadata": {},
   "outputs": [
    {
     "name": "stdout",
     "output_type": "stream",
     "text": [
      "{'Pretty Woman', 'Dirty Dancing'}\n"
     ]
    }
   ],
   "source": [
    "##Біз кестедегі барлық ережелерді қарап шығып, егер олар адамның көрген фильмдерінде кездессе және олардың рейтингі жоғары болса, бұл ереже оған сәйкес келеді және біз бұл фильмді ұсыныстар тізіміне қоса аламыз.\n",
    "def print_rule_title(rule):\n",
    "    return (titles[titles.Movie_Id == int(rule['to'])]['Name'].values)\n",
    "    \n",
    "\n",
    "result = []\n",
    "for A in asr_df.index:\n",
    "    if len(set(good.iloc[j].split(' ')) & set(asr_df['from'].loc[A].split(' '))) == len(asr_df['from'].loc[A].split(' ')):\n",
    "        result.append(print_rule_title(asr_df.loc[A])[0])\n",
    "print(set(result))\n"
   ]
  },
  {
   "cell_type": "code",
   "execution_count": 17,
   "id": "76573d9e-ce77-48ee-8f99-1fc049229e8b",
   "metadata": {},
   "outputs": [
    {
     "name": "stdout",
     "output_type": "stream",
     "text": [
      "130-нөмірлі пайдаланушының ұнатқан фильмдері:\n",
      "1865 3456 3962 5515 6029 6428 8159 8327 8782 8784 11165 11242 11701 12084 12232 14482\n"
     ]
    }
   ],
   "source": [
    "#Тапсырма 9.4.1.1\n",
    "import pandas as pd\n",
    "\n",
    "# Файлды жүктеу (өз жолыңызды көрсетіңіз, егер файл басқа жерде болса)\n",
    "df = pd.read_csv('data_fin.csv', sep=';')\n",
    "\n",
    "# Рейтинг 5 болған жазбаларды таңдаймыз\n",
    "good = df[df['Rating'] == 5]\n",
    "\n",
    "# 130 ID-і бар пайдаланушының фильмдерін аламыз\n",
    "user_130_movies = good[good['Cust_Id'] == 130]['Movie_Id'].tolist()\n",
    "\n",
    "# Нәтижені бір жолға біріктіреміз\n",
    "result = ' '.join(str(movie_id) for movie_id in user_130_movies)\n",
    "\n",
    "# Нәтижені шығару\n",
    "print(\"130-нөмірлі пайдаланушының ұнатқан фильмдері:\")\n",
    "print(result)\n"
   ]
  },
  {
   "cell_type": "code",
   "execution_count": 70,
   "id": "79ebcd01-b64a-484e-9eaf-e305103e37d2",
   "metadata": {},
   "outputs": [
    {
     "ename": "KeyError",
     "evalue": "'Cust_Id'",
     "output_type": "error",
     "traceback": [
      "\u001b[1;31m---------------------------------------------------------------------------\u001b[0m",
      "\u001b[1;31mKeyError\u001b[0m                                  Traceback (most recent call last)",
      "File \u001b[1;32m~\\anaconda3\\Lib\\site-packages\\pandas\\core\\indexes\\base.py:3791\u001b[0m, in \u001b[0;36mIndex.get_loc\u001b[1;34m(self, key)\u001b[0m\n\u001b[0;32m   3790\u001b[0m \u001b[38;5;28;01mtry\u001b[39;00m:\n\u001b[1;32m-> 3791\u001b[0m     \u001b[38;5;28;01mreturn\u001b[39;00m \u001b[38;5;28mself\u001b[39m\u001b[38;5;241m.\u001b[39m_engine\u001b[38;5;241m.\u001b[39mget_loc(casted_key)\n\u001b[0;32m   3792\u001b[0m \u001b[38;5;28;01mexcept\u001b[39;00m \u001b[38;5;167;01mKeyError\u001b[39;00m \u001b[38;5;28;01mas\u001b[39;00m err:\n",
      "File \u001b[1;32mindex.pyx:152\u001b[0m, in \u001b[0;36mpandas._libs.index.IndexEngine.get_loc\u001b[1;34m()\u001b[0m\n",
      "File \u001b[1;32mindex.pyx:181\u001b[0m, in \u001b[0;36mpandas._libs.index.IndexEngine.get_loc\u001b[1;34m()\u001b[0m\n",
      "File \u001b[1;32mpandas\\_libs\\hashtable_class_helper.pxi:7080\u001b[0m, in \u001b[0;36mpandas._libs.hashtable.PyObjectHashTable.get_item\u001b[1;34m()\u001b[0m\n",
      "File \u001b[1;32mpandas\\_libs\\hashtable_class_helper.pxi:7088\u001b[0m, in \u001b[0;36mpandas._libs.hashtable.PyObjectHashTable.get_item\u001b[1;34m()\u001b[0m\n",
      "\u001b[1;31mKeyError\u001b[0m: 'Cust_Id'",
      "\nThe above exception was the direct cause of the following exception:\n",
      "\u001b[1;31mKeyError\u001b[0m                                  Traceback (most recent call last)",
      "Cell \u001b[1;32mIn[70], line 8\u001b[0m\n\u001b[0;32m      2\u001b[0m \u001b[38;5;28;01mfrom\u001b[39;00m \u001b[38;5;21;01mmlxtend\u001b[39;00m\u001b[38;5;21;01m.\u001b[39;00m\u001b[38;5;21;01mfrequent_patterns\u001b[39;00m \u001b[38;5;28;01mimport\u001b[39;00m apriori, association_rules\n\u001b[0;32m      4\u001b[0m \u001b[38;5;66;03m# 1. Деректерді оқу\u001b[39;00m\n\u001b[0;32m      5\u001b[0m \u001b[38;5;66;03m# df = pd.read_csv('data_fin.csv', sep=';')  # Егер қайтадан жүктеу қажет болса\u001b[39;00m\n\u001b[0;32m      6\u001b[0m \n\u001b[0;32m      7\u001b[0m \u001b[38;5;66;03m# 2. Ең белсенді 500 пайдаланушы мен ең танымал 500 фильм\u001b[39;00m\n\u001b[1;32m----> 8\u001b[0m top_users \u001b[38;5;241m=\u001b[39m df[\u001b[38;5;124m'\u001b[39m\u001b[38;5;124mCust_Id\u001b[39m\u001b[38;5;124m'\u001b[39m]\u001b[38;5;241m.\u001b[39mvalue_counts()\u001b[38;5;241m.\u001b[39mhead(\u001b[38;5;241m500\u001b[39m)\u001b[38;5;241m.\u001b[39mindex\n\u001b[0;32m      9\u001b[0m top_movies \u001b[38;5;241m=\u001b[39m df[\u001b[38;5;124m'\u001b[39m\u001b[38;5;124mMovie_Id\u001b[39m\u001b[38;5;124m'\u001b[39m]\u001b[38;5;241m.\u001b[39mvalue_counts()\u001b[38;5;241m.\u001b[39mhead(\u001b[38;5;241m500\u001b[39m)\u001b[38;5;241m.\u001b[39mindex\n\u001b[0;32m     11\u001b[0m filtered_df \u001b[38;5;241m=\u001b[39m df[df[\u001b[38;5;124m'\u001b[39m\u001b[38;5;124mCust_Id\u001b[39m\u001b[38;5;124m'\u001b[39m]\u001b[38;5;241m.\u001b[39misin(top_users) \u001b[38;5;241m&\u001b[39m df[\u001b[38;5;124m'\u001b[39m\u001b[38;5;124mMovie_Id\u001b[39m\u001b[38;5;124m'\u001b[39m]\u001b[38;5;241m.\u001b[39misin(top_movies)]\n",
      "File \u001b[1;32m~\\anaconda3\\Lib\\site-packages\\pandas\\core\\frame.py:3893\u001b[0m, in \u001b[0;36mDataFrame.__getitem__\u001b[1;34m(self, key)\u001b[0m\n\u001b[0;32m   3891\u001b[0m \u001b[38;5;28;01mif\u001b[39;00m \u001b[38;5;28mself\u001b[39m\u001b[38;5;241m.\u001b[39mcolumns\u001b[38;5;241m.\u001b[39mnlevels \u001b[38;5;241m>\u001b[39m \u001b[38;5;241m1\u001b[39m:\n\u001b[0;32m   3892\u001b[0m     \u001b[38;5;28;01mreturn\u001b[39;00m \u001b[38;5;28mself\u001b[39m\u001b[38;5;241m.\u001b[39m_getitem_multilevel(key)\n\u001b[1;32m-> 3893\u001b[0m indexer \u001b[38;5;241m=\u001b[39m \u001b[38;5;28mself\u001b[39m\u001b[38;5;241m.\u001b[39mcolumns\u001b[38;5;241m.\u001b[39mget_loc(key)\n\u001b[0;32m   3894\u001b[0m \u001b[38;5;28;01mif\u001b[39;00m is_integer(indexer):\n\u001b[0;32m   3895\u001b[0m     indexer \u001b[38;5;241m=\u001b[39m [indexer]\n",
      "File \u001b[1;32m~\\anaconda3\\Lib\\site-packages\\pandas\\core\\indexes\\base.py:3798\u001b[0m, in \u001b[0;36mIndex.get_loc\u001b[1;34m(self, key)\u001b[0m\n\u001b[0;32m   3793\u001b[0m     \u001b[38;5;28;01mif\u001b[39;00m \u001b[38;5;28misinstance\u001b[39m(casted_key, \u001b[38;5;28mslice\u001b[39m) \u001b[38;5;129;01mor\u001b[39;00m (\n\u001b[0;32m   3794\u001b[0m         \u001b[38;5;28misinstance\u001b[39m(casted_key, abc\u001b[38;5;241m.\u001b[39mIterable)\n\u001b[0;32m   3795\u001b[0m         \u001b[38;5;129;01mand\u001b[39;00m \u001b[38;5;28many\u001b[39m(\u001b[38;5;28misinstance\u001b[39m(x, \u001b[38;5;28mslice\u001b[39m) \u001b[38;5;28;01mfor\u001b[39;00m x \u001b[38;5;129;01min\u001b[39;00m casted_key)\n\u001b[0;32m   3796\u001b[0m     ):\n\u001b[0;32m   3797\u001b[0m         \u001b[38;5;28;01mraise\u001b[39;00m InvalidIndexError(key)\n\u001b[1;32m-> 3798\u001b[0m     \u001b[38;5;28;01mraise\u001b[39;00m \u001b[38;5;167;01mKeyError\u001b[39;00m(key) \u001b[38;5;28;01mfrom\u001b[39;00m \u001b[38;5;21;01merr\u001b[39;00m\n\u001b[0;32m   3799\u001b[0m \u001b[38;5;28;01mexcept\u001b[39;00m \u001b[38;5;167;01mTypeError\u001b[39;00m:\n\u001b[0;32m   3800\u001b[0m     \u001b[38;5;66;03m# If we have a listlike key, _check_indexing_error will raise\u001b[39;00m\n\u001b[0;32m   3801\u001b[0m     \u001b[38;5;66;03m#  InvalidIndexError. Otherwise we fall through and re-raise\u001b[39;00m\n\u001b[0;32m   3802\u001b[0m     \u001b[38;5;66;03m#  the TypeError.\u001b[39;00m\n\u001b[0;32m   3803\u001b[0m     \u001b[38;5;28mself\u001b[39m\u001b[38;5;241m.\u001b[39m_check_indexing_error(key)\n",
      "\u001b[1;31mKeyError\u001b[0m: 'Cust_Id'"
     ]
    }
   ],
   "source": [
    "import pandas as pd\n",
    "from mlxtend.frequent_patterns import apriori, association_rules\n",
    "\n",
    "# 1. Деректерді оқу\n",
    "# df = pd.read_csv('data_fin.csv', sep=';')  # Егер қайтадан жүктеу қажет болса\n",
    "\n",
    "# 2. Ең белсенді 500 пайдаланушы мен ең танымал 500 фильм\n",
    "top_users = df['Cust_Id'].value_counts().head(500).index\n",
    "top_movies = df['Movie_Id'].value_counts().head(500).index\n",
    "\n",
    "filtered_df = df[df['Cust_Id'].isin(top_users) & df['Movie_Id'].isin(top_movies)]\n",
    "\n",
    "# 3. Себет матрицасы (бинарлы түрде)\n",
    "basket = filtered_df.groupby(['Cust_Id', 'Movie_Id'])['Rating'].count().unstack().fillna(0)\n",
    "\n",
    "# Бинаризациялау\n",
    "basket = basket.astype(bool).astype(int)\n",
    "\n",
    "# 4. Apriori алгоритмі\n",
    "frequent_itemsets = apriori(basket, min_support=0.05, use_colnames=True)\n",
    "\n",
    "# 5. Ассоциативті ережелер\n",
    "rules = association_rules(frequent_itemsets, metric=\"lift\", min_threshold=1.0)\n",
    "\n",
    "# 6. Индексі 315 ережені шығару\n",
    "if 315 in rules.index:\n",
    "    print(\"Индексі 315 болатын ассоциативті ереже:\")\n",
    "    print(rules.iloc[315])\n",
    "else:\n",
    "    print(f\"Ережелер саны: {len(rules)}. Индексі 315 табылмады.\")\n"
   ]
  },
  {
   "cell_type": "code",
   "execution_count": 23,
   "id": "91835010-06df-400f-bd4f-7530db096143",
   "metadata": {},
   "outputs": [
    {
     "name": "stderr",
     "output_type": "stream",
     "text": [
      "C:\\Users\\14ken\\anaconda3\\Lib\\site-packages\\pandas\\core\\reshape\\reshape.py:143: RuntimeWarning: overflow encountered in scalar multiply\n",
      "  num_cells = num_rows * num_columns\n"
     ]
    },
    {
     "ename": "ValueError",
     "evalue": "negative dimensions are not allowed",
     "output_type": "error",
     "traceback": [
      "\u001b[1;31m---------------------------------------------------------------------------\u001b[0m",
      "\u001b[1;31mValueError\u001b[0m                                Traceback (most recent call last)",
      "Cell \u001b[1;32mIn[23], line 5\u001b[0m\n\u001b[0;32m      2\u001b[0m \u001b[38;5;28;01mfrom\u001b[39;00m \u001b[38;5;21;01msklearn\u001b[39;00m\u001b[38;5;21;01m.\u001b[39;00m\u001b[38;5;21;01mmetrics\u001b[39;00m\u001b[38;5;21;01m.\u001b[39;00m\u001b[38;5;21;01mpairwise\u001b[39;00m \u001b[38;5;28;01mimport\u001b[39;00m cosine_similarity\n\u001b[0;32m      4\u001b[0m \u001b[38;5;66;03m# 2. Пайдаланушы-фильм матрицасы\u001b[39;00m\n\u001b[1;32m----> 5\u001b[0m rating_matrix \u001b[38;5;241m=\u001b[39m df\u001b[38;5;241m.\u001b[39mpivot_table(index\u001b[38;5;241m=\u001b[39m\u001b[38;5;124m'\u001b[39m\u001b[38;5;124mCust_Id\u001b[39m\u001b[38;5;124m'\u001b[39m, columns\u001b[38;5;241m=\u001b[39m\u001b[38;5;124m'\u001b[39m\u001b[38;5;124mMovie_Id\u001b[39m\u001b[38;5;124m'\u001b[39m, values\u001b[38;5;241m=\u001b[39m\u001b[38;5;124m'\u001b[39m\u001b[38;5;124mRating\u001b[39m\u001b[38;5;124m'\u001b[39m)\n\u001b[0;32m      7\u001b[0m \u001b[38;5;66;03m# 3. Item-based Collaborative Filtering — фильмдер арасындағы ұқсастық\u001b[39;00m\n\u001b[0;32m      8\u001b[0m item_similarity \u001b[38;5;241m=\u001b[39m cosine_similarity(rating_matrix\u001b[38;5;241m.\u001b[39mT\u001b[38;5;241m.\u001b[39mfillna(\u001b[38;5;241m0\u001b[39m))\n",
      "File \u001b[1;32m~\\anaconda3\\Lib\\site-packages\\pandas\\core\\frame.py:9190\u001b[0m, in \u001b[0;36mDataFrame.pivot_table\u001b[1;34m(self, values, index, columns, aggfunc, fill_value, margins, dropna, margins_name, observed, sort)\u001b[0m\n\u001b[0;32m   9173\u001b[0m \u001b[38;5;129m@Substitution\u001b[39m(\u001b[38;5;124m\"\u001b[39m\u001b[38;5;124m\"\u001b[39m)\n\u001b[0;32m   9174\u001b[0m \u001b[38;5;129m@Appender\u001b[39m(_shared_docs[\u001b[38;5;124m\"\u001b[39m\u001b[38;5;124mpivot_table\u001b[39m\u001b[38;5;124m\"\u001b[39m])\n\u001b[0;32m   9175\u001b[0m \u001b[38;5;28;01mdef\u001b[39;00m \u001b[38;5;21mpivot_table\u001b[39m(\n\u001b[1;32m   (...)\u001b[0m\n\u001b[0;32m   9186\u001b[0m     sort: \u001b[38;5;28mbool\u001b[39m \u001b[38;5;241m=\u001b[39m \u001b[38;5;28;01mTrue\u001b[39;00m,\n\u001b[0;32m   9187\u001b[0m ) \u001b[38;5;241m-\u001b[39m\u001b[38;5;241m>\u001b[39m DataFrame:\n\u001b[0;32m   9188\u001b[0m     \u001b[38;5;28;01mfrom\u001b[39;00m \u001b[38;5;21;01mpandas\u001b[39;00m\u001b[38;5;21;01m.\u001b[39;00m\u001b[38;5;21;01mcore\u001b[39;00m\u001b[38;5;21;01m.\u001b[39;00m\u001b[38;5;21;01mreshape\u001b[39;00m\u001b[38;5;21;01m.\u001b[39;00m\u001b[38;5;21;01mpivot\u001b[39;00m \u001b[38;5;28;01mimport\u001b[39;00m pivot_table\n\u001b[1;32m-> 9190\u001b[0m     \u001b[38;5;28;01mreturn\u001b[39;00m pivot_table(\n\u001b[0;32m   9191\u001b[0m         \u001b[38;5;28mself\u001b[39m,\n\u001b[0;32m   9192\u001b[0m         values\u001b[38;5;241m=\u001b[39mvalues,\n\u001b[0;32m   9193\u001b[0m         index\u001b[38;5;241m=\u001b[39mindex,\n\u001b[0;32m   9194\u001b[0m         columns\u001b[38;5;241m=\u001b[39mcolumns,\n\u001b[0;32m   9195\u001b[0m         aggfunc\u001b[38;5;241m=\u001b[39maggfunc,\n\u001b[0;32m   9196\u001b[0m         fill_value\u001b[38;5;241m=\u001b[39mfill_value,\n\u001b[0;32m   9197\u001b[0m         margins\u001b[38;5;241m=\u001b[39mmargins,\n\u001b[0;32m   9198\u001b[0m         dropna\u001b[38;5;241m=\u001b[39mdropna,\n\u001b[0;32m   9199\u001b[0m         margins_name\u001b[38;5;241m=\u001b[39mmargins_name,\n\u001b[0;32m   9200\u001b[0m         observed\u001b[38;5;241m=\u001b[39mobserved,\n\u001b[0;32m   9201\u001b[0m         sort\u001b[38;5;241m=\u001b[39msort,\n\u001b[0;32m   9202\u001b[0m     )\n",
      "File \u001b[1;32m~\\anaconda3\\Lib\\site-packages\\pandas\\core\\reshape\\pivot.py:99\u001b[0m, in \u001b[0;36mpivot_table\u001b[1;34m(data, values, index, columns, aggfunc, fill_value, margins, dropna, margins_name, observed, sort)\u001b[0m\n\u001b[0;32m     96\u001b[0m     table \u001b[38;5;241m=\u001b[39m concat(pieces, keys\u001b[38;5;241m=\u001b[39mkeys, axis\u001b[38;5;241m=\u001b[39m\u001b[38;5;241m1\u001b[39m)\n\u001b[0;32m     97\u001b[0m     \u001b[38;5;28;01mreturn\u001b[39;00m table\u001b[38;5;241m.\u001b[39m__finalize__(data, method\u001b[38;5;241m=\u001b[39m\u001b[38;5;124m\"\u001b[39m\u001b[38;5;124mpivot_table\u001b[39m\u001b[38;5;124m\"\u001b[39m)\n\u001b[1;32m---> 99\u001b[0m table \u001b[38;5;241m=\u001b[39m __internal_pivot_table(\n\u001b[0;32m    100\u001b[0m     data,\n\u001b[0;32m    101\u001b[0m     values,\n\u001b[0;32m    102\u001b[0m     index,\n\u001b[0;32m    103\u001b[0m     columns,\n\u001b[0;32m    104\u001b[0m     aggfunc,\n\u001b[0;32m    105\u001b[0m     fill_value,\n\u001b[0;32m    106\u001b[0m     margins,\n\u001b[0;32m    107\u001b[0m     dropna,\n\u001b[0;32m    108\u001b[0m     margins_name,\n\u001b[0;32m    109\u001b[0m     observed,\n\u001b[0;32m    110\u001b[0m     sort,\n\u001b[0;32m    111\u001b[0m )\n\u001b[0;32m    112\u001b[0m \u001b[38;5;28;01mreturn\u001b[39;00m table\u001b[38;5;241m.\u001b[39m__finalize__(data, method\u001b[38;5;241m=\u001b[39m\u001b[38;5;124m\"\u001b[39m\u001b[38;5;124mpivot_table\u001b[39m\u001b[38;5;124m\"\u001b[39m)\n",
      "File \u001b[1;32m~\\anaconda3\\Lib\\site-packages\\pandas\\core\\reshape\\pivot.py:189\u001b[0m, in \u001b[0;36m__internal_pivot_table\u001b[1;34m(data, values, index, columns, aggfunc, fill_value, margins, dropna, margins_name, observed, sort)\u001b[0m\n\u001b[0;32m    187\u001b[0m         \u001b[38;5;28;01melse\u001b[39;00m:\n\u001b[0;32m    188\u001b[0m             to_unstack\u001b[38;5;241m.\u001b[39mappend(name)\n\u001b[1;32m--> 189\u001b[0m     table \u001b[38;5;241m=\u001b[39m agged\u001b[38;5;241m.\u001b[39munstack(to_unstack, fill_value\u001b[38;5;241m=\u001b[39mfill_value)\n\u001b[0;32m    191\u001b[0m \u001b[38;5;28;01mif\u001b[39;00m \u001b[38;5;129;01mnot\u001b[39;00m dropna:\n\u001b[0;32m    192\u001b[0m     \u001b[38;5;28;01mif\u001b[39;00m \u001b[38;5;28misinstance\u001b[39m(table\u001b[38;5;241m.\u001b[39mindex, MultiIndex):\n",
      "File \u001b[1;32m~\\anaconda3\\Lib\\site-packages\\pandas\\core\\frame.py:9622\u001b[0m, in \u001b[0;36mDataFrame.unstack\u001b[1;34m(self, level, fill_value, sort)\u001b[0m\n\u001b[0;32m   9558\u001b[0m \u001b[38;5;250m\u001b[39m\u001b[38;5;124;03m\"\"\"\u001b[39;00m\n\u001b[0;32m   9559\u001b[0m \u001b[38;5;124;03mPivot a level of the (necessarily hierarchical) index labels.\u001b[39;00m\n\u001b[0;32m   9560\u001b[0m \n\u001b[1;32m   (...)\u001b[0m\n\u001b[0;32m   9618\u001b[0m \u001b[38;5;124;03mdtype: float64\u001b[39;00m\n\u001b[0;32m   9619\u001b[0m \u001b[38;5;124;03m\"\"\"\u001b[39;00m\n\u001b[0;32m   9620\u001b[0m \u001b[38;5;28;01mfrom\u001b[39;00m \u001b[38;5;21;01mpandas\u001b[39;00m\u001b[38;5;21;01m.\u001b[39;00m\u001b[38;5;21;01mcore\u001b[39;00m\u001b[38;5;21;01m.\u001b[39;00m\u001b[38;5;21;01mreshape\u001b[39;00m\u001b[38;5;21;01m.\u001b[39;00m\u001b[38;5;21;01mreshape\u001b[39;00m \u001b[38;5;28;01mimport\u001b[39;00m unstack\n\u001b[1;32m-> 9622\u001b[0m result \u001b[38;5;241m=\u001b[39m unstack(\u001b[38;5;28mself\u001b[39m, level, fill_value, sort)\n\u001b[0;32m   9624\u001b[0m \u001b[38;5;28;01mreturn\u001b[39;00m result\u001b[38;5;241m.\u001b[39m__finalize__(\u001b[38;5;28mself\u001b[39m, method\u001b[38;5;241m=\u001b[39m\u001b[38;5;124m\"\u001b[39m\u001b[38;5;124munstack\u001b[39m\u001b[38;5;124m\"\u001b[39m)\n",
      "File \u001b[1;32m~\\anaconda3\\Lib\\site-packages\\pandas\\core\\reshape\\reshape.py:504\u001b[0m, in \u001b[0;36munstack\u001b[1;34m(obj, level, fill_value, sort)\u001b[0m\n\u001b[0;32m    502\u001b[0m \u001b[38;5;28;01mif\u001b[39;00m \u001b[38;5;28misinstance\u001b[39m(obj, DataFrame):\n\u001b[0;32m    503\u001b[0m     \u001b[38;5;28;01mif\u001b[39;00m \u001b[38;5;28misinstance\u001b[39m(obj\u001b[38;5;241m.\u001b[39mindex, MultiIndex):\n\u001b[1;32m--> 504\u001b[0m         \u001b[38;5;28;01mreturn\u001b[39;00m _unstack_frame(obj, level, fill_value\u001b[38;5;241m=\u001b[39mfill_value, sort\u001b[38;5;241m=\u001b[39msort)\n\u001b[0;32m    505\u001b[0m     \u001b[38;5;28;01melse\u001b[39;00m:\n\u001b[0;32m    506\u001b[0m         \u001b[38;5;28;01mreturn\u001b[39;00m obj\u001b[38;5;241m.\u001b[39mT\u001b[38;5;241m.\u001b[39mstack(future_stack\u001b[38;5;241m=\u001b[39m\u001b[38;5;28;01mTrue\u001b[39;00m)\n",
      "File \u001b[1;32m~\\anaconda3\\Lib\\site-packages\\pandas\\core\\reshape\\reshape.py:529\u001b[0m, in \u001b[0;36m_unstack_frame\u001b[1;34m(obj, level, fill_value, sort)\u001b[0m\n\u001b[0;32m    525\u001b[0m \u001b[38;5;28;01mdef\u001b[39;00m \u001b[38;5;21m_unstack_frame\u001b[39m(\n\u001b[0;32m    526\u001b[0m     obj: DataFrame, level, fill_value\u001b[38;5;241m=\u001b[39m\u001b[38;5;28;01mNone\u001b[39;00m, sort: \u001b[38;5;28mbool\u001b[39m \u001b[38;5;241m=\u001b[39m \u001b[38;5;28;01mTrue\u001b[39;00m\n\u001b[0;32m    527\u001b[0m ) \u001b[38;5;241m-\u001b[39m\u001b[38;5;241m>\u001b[39m DataFrame:\n\u001b[0;32m    528\u001b[0m     \u001b[38;5;28;01massert\u001b[39;00m \u001b[38;5;28misinstance\u001b[39m(obj\u001b[38;5;241m.\u001b[39mindex, MultiIndex)  \u001b[38;5;66;03m# checked by caller\u001b[39;00m\n\u001b[1;32m--> 529\u001b[0m     unstacker \u001b[38;5;241m=\u001b[39m _Unstacker(\n\u001b[0;32m    530\u001b[0m         obj\u001b[38;5;241m.\u001b[39mindex, level\u001b[38;5;241m=\u001b[39mlevel, constructor\u001b[38;5;241m=\u001b[39mobj\u001b[38;5;241m.\u001b[39m_constructor, sort\u001b[38;5;241m=\u001b[39msort\n\u001b[0;32m    531\u001b[0m     )\n\u001b[0;32m    533\u001b[0m     \u001b[38;5;28;01mif\u001b[39;00m \u001b[38;5;129;01mnot\u001b[39;00m obj\u001b[38;5;241m.\u001b[39m_can_fast_transpose:\n\u001b[0;32m    534\u001b[0m         mgr \u001b[38;5;241m=\u001b[39m obj\u001b[38;5;241m.\u001b[39m_mgr\u001b[38;5;241m.\u001b[39munstack(unstacker, fill_value\u001b[38;5;241m=\u001b[39mfill_value)\n",
      "File \u001b[1;32m~\\anaconda3\\Lib\\site-packages\\pandas\\core\\reshape\\reshape.py:154\u001b[0m, in \u001b[0;36m_Unstacker.__init__\u001b[1;34m(self, index, level, constructor, sort)\u001b[0m\n\u001b[0;32m    146\u001b[0m \u001b[38;5;28;01mif\u001b[39;00m num_cells \u001b[38;5;241m>\u001b[39m np\u001b[38;5;241m.\u001b[39miinfo(np\u001b[38;5;241m.\u001b[39mint32)\u001b[38;5;241m.\u001b[39mmax:\n\u001b[0;32m    147\u001b[0m     warnings\u001b[38;5;241m.\u001b[39mwarn(\n\u001b[0;32m    148\u001b[0m         \u001b[38;5;124mf\u001b[39m\u001b[38;5;124m\"\u001b[39m\u001b[38;5;124mThe following operation may generate \u001b[39m\u001b[38;5;132;01m{\u001b[39;00mnum_cells\u001b[38;5;132;01m}\u001b[39;00m\u001b[38;5;124m cells \u001b[39m\u001b[38;5;124m\"\u001b[39m\n\u001b[0;32m    149\u001b[0m         \u001b[38;5;124mf\u001b[39m\u001b[38;5;124m\"\u001b[39m\u001b[38;5;124min the resulting pandas object.\u001b[39m\u001b[38;5;124m\"\u001b[39m,\n\u001b[0;32m    150\u001b[0m         PerformanceWarning,\n\u001b[0;32m    151\u001b[0m         stacklevel\u001b[38;5;241m=\u001b[39mfind_stack_level(),\n\u001b[0;32m    152\u001b[0m     )\n\u001b[1;32m--> 154\u001b[0m \u001b[38;5;28mself\u001b[39m\u001b[38;5;241m.\u001b[39m_make_selectors()\n",
      "File \u001b[1;32m~\\anaconda3\\Lib\\site-packages\\pandas\\core\\reshape\\reshape.py:206\u001b[0m, in \u001b[0;36m_Unstacker._make_selectors\u001b[1;34m(self)\u001b[0m\n\u001b[0;32m    203\u001b[0m \u001b[38;5;28mself\u001b[39m\u001b[38;5;241m.\u001b[39mfull_shape \u001b[38;5;241m=\u001b[39m ngroups, stride\n\u001b[0;32m    205\u001b[0m selector \u001b[38;5;241m=\u001b[39m \u001b[38;5;28mself\u001b[39m\u001b[38;5;241m.\u001b[39msorted_labels[\u001b[38;5;241m-\u001b[39m\u001b[38;5;241m1\u001b[39m] \u001b[38;5;241m+\u001b[39m stride \u001b[38;5;241m*\u001b[39m comp_index \u001b[38;5;241m+\u001b[39m \u001b[38;5;28mself\u001b[39m\u001b[38;5;241m.\u001b[39mlift\n\u001b[1;32m--> 206\u001b[0m mask \u001b[38;5;241m=\u001b[39m np\u001b[38;5;241m.\u001b[39mzeros(np\u001b[38;5;241m.\u001b[39mprod(\u001b[38;5;28mself\u001b[39m\u001b[38;5;241m.\u001b[39mfull_shape), dtype\u001b[38;5;241m=\u001b[39m\u001b[38;5;28mbool\u001b[39m)\n\u001b[0;32m    207\u001b[0m mask\u001b[38;5;241m.\u001b[39mput(selector, \u001b[38;5;28;01mTrue\u001b[39;00m)\n\u001b[0;32m    209\u001b[0m \u001b[38;5;28;01mif\u001b[39;00m mask\u001b[38;5;241m.\u001b[39msum() \u001b[38;5;241m<\u001b[39m \u001b[38;5;28mlen\u001b[39m(\u001b[38;5;28mself\u001b[39m\u001b[38;5;241m.\u001b[39mindex):\n",
      "\u001b[1;31mValueError\u001b[0m: negative dimensions are not allowed"
     ]
    }
   ],
   "source": [
    "#псырма 9.4.1 3\n",
    "import pandas as pd\n",
    "from sklearn.metrics.pairwise import cosine_similarity\n",
    "\n",
    "# 2. Пайдаланушы-фильм матрицасы\n",
    "rating_matrix = df.pivot_table(index='Cust_Id', columns='Movie_Id', values='Rating')\n",
    "\n",
    "# 3. Item-based Collaborative Filtering — фильмдер арасындағы ұқсастық\n",
    "item_similarity = cosine_similarity(rating_matrix.T.fillna(0))\n",
    "item_similarity_df = pd.DataFrame(item_similarity, index=rating_matrix.columns, columns=rating_matrix.columns)\n",
    "\n",
    "# 4. 21-нөмірлі пайдаланушының көрмеген фильмдерін табу\n",
    "user_ratings = rating_matrix.loc[21]\n",
    "watched_movies = user_ratings[user_ratings.notna()].index\n",
    "unwatched_movies = user_ratings[user_ratings.isna()].index\n",
    "\n",
    "# 5. Болжамды рейтингтерді есептеу\n",
    "predictions = {}\n",
    "for movie_id in unwatched_movies:\n",
    "    sim_scores = item_similarity_df.loc[movie_id, watched_movies]\n",
    "    user_scores = user_ratings[watched_movies]\n",
    "    if sim_scores.sum() > 0:\n",
    "        predicted_rating = (sim_scores @ user_scores) / sim_scores.sum()\n",
    "        predictions[movie_id] = predicted_rating\n",
    "\n",
    "# 6. Ұсынылатын фильмдерді сұрыптау\n",
    "top_recommended = sorted(predictions.items(), key=lambda x: x[1], reverse=True)\n",
    "\n",
    "# 7. Ұсыныстарды фильм атауларымен біріктіру\n",
    "recommend_df = pd.DataFrame(top_recommended, columns=['Movie_Id', 'Predicted_Rating'])\n",
    "merged = recommend_df.merge(movie_titles, on='Movie_Id', how='left')\n",
    "\n",
    "# 8. Атауы ең қысқа фильмді табу\n",
    "merged['Title_Length'] = merged['Title'].apply(lambda x: len(str(x)))\n",
    "shortest_title_movie = merged.sort_values(by='Title_Length').iloc[0]\n",
    "\n",
    "# 🔚 Нәтиже\n",
    "print(\"Пайдаланушы 21 үшін ұсынылған ең қысқа атаулы фильм:\")\n",
    "print(f\"🎬 Фильм ID: {shortest_title_movie['Movie_Id']}\")\n",
    "print(f\"📌 Атауы: {shortest_title_movie['Title']}\")\n",
    "print(f\"⭐ Болжамды рейтинг: {shortest_title_movie['Predicted_Rating']:.2f}\")\n"
   ]
  },
  {
   "cell_type": "code",
   "execution_count": 24,
   "id": "911210cf-f2f0-4489-bfc8-3c2b01b392a0",
   "metadata": {},
   "outputs": [],
   "source": [
    "#Коллаборативті фильтрация\n",
    "cust_sample = df.Cust_Id.sample(10000)\n",
    "movie_sample = df.Movie_Id.sample(5000)\n"
   ]
  },
  {
   "cell_type": "code",
   "execution_count": 30,
   "id": "66f34559-9178-4561-8bcb-5715706c9710",
   "metadata": {},
   "outputs": [],
   "source": [
    "import surprise\n",
    "from surprise import Reader, Dataset\n",
    "import numpy as np\n",
    "from collections import defaultdict\n",
    "\n",
    "# Reader арқылы деректер жиынтығын жүктеу\n",
    "reader = Reader(rating_scale=(0.5, 5.0))\n",
    "data = Dataset.load_from_df(df[df.Cust_Id.isin(cust_sample) &\n",
    "                              df.Movie_Id.isin(movie_sample)][['Cust_Id', 'Movie_Id', 'Rating']], reader)\n"
   ]
  },
  {
   "cell_type": "code",
   "execution_count": 31,
   "id": "64751404-057e-4571-8d6e-162e5cd593a0",
   "metadata": {},
   "outputs": [
    {
     "name": "stdout",
     "output_type": "stream",
     "text": [
      "Computing the cosine similarity matrix...\n",
      "Done computing similarity matrix.\n"
     ]
    },
    {
     "data": {
      "text/plain": [
       "<surprise.prediction_algorithms.knns.KNNBasic at 0x24204c08750>"
      ]
     },
     "execution_count": 31,
     "metadata": {},
     "output_type": "execute_result"
    }
   ],
   "source": [
    "#Алгоритмды баптау және модельді оқыту\n",
    "from surprise import KNNBasic\n",
    "\n",
    "# sim_options параметрлерін орнату\n",
    "sim_options = {\n",
    "    'name': 'cosine',\n",
    "    'user_based': False  # item-based фильтрация\n",
    "}\n",
    "\n",
    "# Модельді баптау\n",
    "knn = KNNBasic(sim_options=sim_options)\n",
    "trainingSet = data.build_full_trainset()\n",
    "\n",
    "# Модельді оқыту\n",
    "knn.fit(trainingSet)\n"
   ]
  },
  {
   "cell_type": "code",
   "execution_count": 32,
   "id": "23ee3519-22db-421c-902b-477c301d50e5",
   "metadata": {},
   "outputs": [],
   "source": [
    "#Болжау жасау және үздік 3 ұсыныс алу:\n",
    "# Тест жиынтығын құру\n",
    "testSet = trainingSet.build_anti_testset()\n",
    "predictions = knn.test(testSet)\n",
    "\n",
    "# Үздік 3 ұсынысты алу\n",
    "def get_top3_recommendations(predictions, topN=3):\n",
    "    top_recs = defaultdict(list)\n",
    "    for uid, iid, true_r, est, _ in predictions:\n",
    "        top_recs[uid].append((iid, est))\n",
    "    \n",
    "    for uid, user_ratings in top_recs.items():\n",
    "        user_ratings.sort(key=lambda x: x[1], reverse=True)\n",
    "        top_recs[uid] = user_ratings[:topN]\n",
    "    \n",
    "    return top_recs\n",
    "\n",
    "top3_recommendations = get_top3_recommendations(predictions)\n"
   ]
  },
  {
   "cell_type": "code",
   "execution_count": 33,
   "id": "540e96a4-7cdf-4432-8b34-bf6e1ffb2bfc",
   "metadata": {},
   "outputs": [
    {
     "name": "stdout",
     "output_type": "stream",
     "text": [
      "Throne of Blood 4.1\n",
      "Crumb 4.1\n",
      "The Rolling Stones: Gimme Shelter 3.95\n"
     ]
    }
   ],
   "source": [
    "#Фильмдердің атауларын декодтау және ұсыныстарды шығару:\n",
    "def print_recs(i):\n",
    "    for (a, b) in top3_recommendations[i]:\n",
    "        print(titles[titles.Movie_Id == a]['Name'].values[0], np.round(b, 2))\n",
    "\n",
    "# Кездейсоқ пайдаланушы үшін ұсыныстар шығару\n",
    "i = np.random.choice(list(top3_recommendations.keys()))\n",
    "print_recs(i)\n"
   ]
  },
  {
   "cell_type": "code",
   "execution_count": 34,
   "id": "1403c7d8-7fea-4ded-ad89-9fabd5f17c4a",
   "metadata": {},
   "outputs": [
    {
     "data": {
      "text/plain": [
       "array(['Seven Samurai', 'Dr. Strangelove', 'Rear Window', 'Annie Hall',\n",
       "       'Citizen Kane', 'The Bicycle Thief', 'Ran', 'Psycho',\n",
       "       '2001: A Space Odyssey', 'The Godfather', 'Chinatown',\n",
       "       'Touch of Evil', 'Suspicion', 'Some Like It Hot'], dtype=object)"
      ]
     },
     "execution_count": 34,
     "metadata": {},
     "output_type": "execute_result"
    }
   ],
   "source": [
    "#Қолданушының қандай фильмдерді жақсы көргенін тексеру:\n",
    "# Пайдаланушының 5-ке бағалаған фильмдерін табу\n",
    "films = data.df[(data.df.Cust_Id == i) & (data.df.Rating == 5)]['Movie_Id'].values\n",
    "titles[titles.Movie_Id.isin(films)]['Name'].values\n"
   ]
  },
  {
   "cell_type": "code",
   "execution_count": 35,
   "id": "07ed894b-14f8-441b-8db4-c69e9e8a02c1",
   "metadata": {},
   "outputs": [
    {
     "name": "stdout",
     "output_type": "stream",
     "text": [
      "s: [16.46644354  6.21001334  4.39908461  2.90336429  1.58445634]\n"
     ]
    }
   ],
   "source": [
    "#SVD және ALS алгоритмдері Тапсырма 9.7.1\n",
    "import numpy as np\n",
    "from scipy.linalg import svd\n",
    "\n",
    "# Пайдаланушы-фильм матрицасы\n",
    "user_movie_matrix = np.array([\n",
    "    [1, 5, 0, 5, 4],\n",
    "    [5, 4, 4, 3, 2],\n",
    "    [0, 4, 0, 0, 5],\n",
    "    [4, 4, 1, 4, 0],\n",
    "    [0, 4, 3, 5, 0],\n",
    "    [2, 4, 3, 5, 3]\n",
    "])\n",
    "\n",
    "# SVD-ыдырау\n",
    "U, s, Vt = svd(user_movie_matrix, full_matrices=False)\n",
    "\n",
    "print(\"s:\", s)\n"
   ]
  },
  {
   "cell_type": "code",
   "execution_count": 36,
   "id": "e9bd597b-226a-4aa3-9d83-a00c671e6aa3",
   "metadata": {},
   "outputs": [
    {
     "name": "stdout",
     "output_type": "stream",
     "text": [
      "user2_lowdim: [-4.09679486  4.68635611]\n"
     ]
    }
   ],
   "source": [
    "#Тапсырма 9.7.2. Өлшемді азайту (екі компонент)\n",
    "# Екі компонентті таңдаймыз\n",
    "U2 = U[:, :2]\n",
    "S2 = np.diag(s[:2])\n",
    "Vt2 = Vt[:2, :]\n",
    "\n",
    "# №2 пайдаланушы (яғни үшінші жол) бастапқы кеңістікте\n",
    "user_2 = user_movie_matrix[2]\n",
    "\n",
    "# lowdim векторын есептейміз (өлшемі азайған пайдаланушы векторы)\n",
    "user2_lowdim = np.dot(user_2, Vt2.T)\n",
    "\n",
    "print(\"user2_lowdim:\", user2_lowdim)\n"
   ]
  },
  {
   "cell_type": "code",
   "execution_count": 37,
   "id": "ef940877-8798-439e-8654-5c5b5dad3ab1",
   "metadata": {},
   "outputs": [
    {
     "name": "stdout",
     "output_type": "stream",
     "text": [
      "Болжанған бағалар: [-0.6096677   3.54684982 -0.57140075  1.15887633  4.9116525 ]\n"
     ]
    }
   ],
   "source": [
    "# Пайдаланушының бағалары векторын қалпына келтіру\n",
    "user2_predicted = np.dot(user2_lowdim, Vt2)\n",
    "\n",
    "print(\"Болжанған бағалар:\", user2_predicted)\n"
   ]
  },
  {
   "cell_type": "code",
   "execution_count": 38,
   "id": "6183e422-798f-468b-b1bb-8358f1665b97",
   "metadata": {},
   "outputs": [
    {
     "name": "stdout",
     "output_type": "stream",
     "text": [
      "Ең жоғары баға алған көрілмеген фильм индексі: 3\n"
     ]
    }
   ],
   "source": [
    "#Тапсырма 9.7.3.1\n",
    "seen = user_movie_matrix[2] != 0\n",
    "unseen_indices = np.where(~seen)[0]\n",
    "best_index = unseen_indices[np.argmax(user2_predicted[unseen_indices])]\n",
    "print(\"Ең жоғары баға алған көрілмеген фильм индексі:\", best_index)\n"
   ]
  },
  {
   "cell_type": "code",
   "execution_count": 39,
   "id": "3b154ef1-f90c-4382-8852-7cbbfcbd112d",
   "metadata": {},
   "outputs": [
    {
     "name": "stdout",
     "output_type": "stream",
     "text": [
      "Айырмашылық: 0.088\n"
     ]
    }
   ],
   "source": [
    "# Тапсырма 9.7.3.2\n",
    "real = user_movie_matrix[2, 4]\n",
    "pred = user2_predicted[4]\n",
    "difference = round(abs(real - pred), 3)\n",
    "print(\"Айырмашылық:\", difference)\n"
   ]
  },
  {
   "cell_type": "code",
   "execution_count": 40,
   "id": "ff30c585-3e5d-435a-9012-551734f74f5f",
   "metadata": {},
   "outputs": [
    {
     "name": "stdout",
     "output_type": "stream",
     "text": [
      "Жаңа пайдаланушыға ұсынылатын ең үздік фильм индексі: 1\n"
     ]
    }
   ],
   "source": [
    "#4-қадам. Жаңа пайдаланушы мен 3 компонент\n",
    "# 3 компонентпен SVD\n",
    "U3 = U[:, :3]\n",
    "S3 = np.diag(s[:3])\n",
    "Vt3 = Vt[:3, :]\n",
    "\n",
    "new_user = np.array([0, 0, 3, 4, 0])\n",
    "\n",
    "# Жаңа пайдаланушының төмен өлшемді векторы\n",
    "new_user_lowdim = np.dot(new_user, Vt3.T)\n",
    "\n",
    "# Кері трансформация\n",
    "new_user_predicted = np.dot(new_user_lowdim, Vt3)\n",
    "\n",
    "# Көрмеген фильмдердің индекстері\n",
    "new_user_seen = new_user != 0\n",
    "new_unseen_indices = np.where(~new_user_seen)[0]\n",
    "new_best_index = new_unseen_indices[np.argmax(new_user_predicted[new_unseen_indices])]\n",
    "\n",
    "print(\"Жаңа пайдаланушыға ұсынылатын ең үздік фильм индексі:\", new_best_index)\n"
   ]
  },
  {
   "cell_type": "code",
   "execution_count": 42,
   "id": "0b89ab71-73d4-40dd-9636-ec918036058c",
   "metadata": {},
   "outputs": [
    {
     "name": "stdout",
     "output_type": "stream",
     "text": [
      "Фильм саны: 17770\n",
      "Пайдаланушылар саны: 480189\n"
     ]
    }
   ],
   "source": [
    "#Практика. 1. Деректерді жүктеу және шектеу\n",
    "import pandas as pd\n",
    "import numpy as np\n",
    "\n",
    "\n",
    "# Пайдаланушы мен фильм сандары\n",
    "print(\"Фильм саны:\", df.Movie_Id.nunique())\n",
    "print(\"Пайдаланушылар саны:\", df.Cust_Id.nunique())\n",
    "\n",
    "# Тек 10 000 пайдаланушы және 5 000 фильмді алу\n",
    "cust_sample = df.Cust_Id.sample(10000, random_state=42)\n",
    "movie_sample = df.Movie_Id.sample(5000, random_state=42)\n",
    "\n",
    "# Сүзу\n",
    "df = df[df.Cust_Id.isin(cust_sample) & df.Movie_Id.isin(movie_sample)]\n"
   ]
  },
  {
   "cell_type": "code",
   "execution_count": 47,
   "id": "1a56813d-9384-4be0-8597-53e647723fad",
   "metadata": {},
   "outputs": [],
   "source": [
    "#2. Surprise құрылымы мен SVD оқыту\n",
    "import surprise\n",
    "from surprise import Reader, Dataset, SVD\n",
    "\n",
    "reader = Reader(rating_scale=(0.5, 5.0))\n",
    "data = Dataset.load_from_df(df[['Cust_Id', 'Movie_Id', 'Rating']], reader)\n",
    "\n",
    "# Оқыту деректерін құру\n",
    "trainingSet = data.build_full_trainset()\n",
    "testSet = trainingSet.build_testset()\n",
    "\n",
    "# Модель жасау және жаттықтыру\n",
    "svd = SVD()\n",
    "svd.fit(trainingSet)\n",
    "predictions = svd.test(testSet)\n"
   ]
  },
  {
   "cell_type": "code",
   "execution_count": 48,
   "id": "c1fe3b95-0600-4a8e-88ef-55178eb17df0",
   "metadata": {},
   "outputs": [],
   "source": [
    "#3. Үздік 3 ұсынысты табу\n",
    "from collections import defaultdict\n",
    "\n",
    "def get_top3_recommendations(predictions, topN=3):\n",
    "    top_recs = defaultdict(list)\n",
    "    for uid, iid, true_r, est, _ in predictions:\n",
    "        top_recs[uid].append((iid, est))\n",
    "    for uid, user_ratings in top_recs.items():\n",
    "        user_ratings.sort(key=lambda x: x[1], reverse=True)\n",
    "        top_recs[uid] = user_ratings[:topN]\n",
    "    return top_recs\n",
    "\n",
    "top3_recs = get_top3_recommendations(predictions, topN=3)\n"
   ]
  },
  {
   "cell_type": "code",
   "execution_count": 49,
   "id": "9ff618ad-53e1-43d1-8700-eb7ee86c32b8",
   "metadata": {},
   "outputs": [
    {
     "name": "stdout",
     "output_type": "stream",
     "text": [
      "Фильм: Heathers, Баға: 4.57\n",
      "Фильм: Lord of the Rings: The Return of the King, Баға: 4.54\n",
      "Фильм: Lost in Translation, Баға: 4.53\n"
     ]
    }
   ],
   "source": [
    "#4. Фильмдердің атауын қосу\n",
    "#titles = pd.read_csv('movie_titles.csv', encoding = \"ISO-8859-1\", \n",
    "                     #header = None, names = ['Movie_Id', 'Year', 'Name'])\n",
    "\n",
    "# Пайдаланушылар тізімінен Кездейсоқ бір пайдаланушыны аламыз\n",
    "sample_user = list(top3_recs.keys())[0]\n",
    "\n",
    "# Таңдалған пайдаланушы үшін ұсынылған 3 үздік фильмді шығарамыз\n",
    "for movie_id, score in top3_recs[sample_user]:\n",
    "    # Movie_Id арқылы фильм атауын аламыз\n",
    "    title = titles[titles.Movie_Id == int(movie_id)].Name.values[0]\n",
    "    \n",
    "    # Фильм атауы мен болжанған рейтингісін (score) шығарамыз\n",
    "    print(f\"Фильм: {title}, Баға: {score:.2f}\")"
   ]
  },
  {
   "cell_type": "code",
   "execution_count": 52,
   "id": "52d2c38f-ea41-4c83-9e53-53dad955952f",
   "metadata": {},
   "outputs": [
    {
     "name": "stdout",
     "output_type": "stream",
     "text": [
      "Болжамдар саны: 3799471\n",
      "Ұсыныстар саны: 9722\n"
     ]
    }
   ],
   "source": [
    "print(\"Болжамдар саны:\", len(predictions))\n",
    "print(\"Ұсыныстар саны:\", len(top3_recs))\n"
   ]
  },
  {
   "cell_type": "code",
   "execution_count": 54,
   "id": "38db6c21-fa5f-42d7-8afe-9e5f859252fa",
   "metadata": {},
   "outputs": [
    {
     "name": "stdout",
     "output_type": "stream",
     "text": [
      "Dataset ml-100k could not be found. Do you want to download it? [Y/n] "
     ]
    },
    {
     "name": "stdin",
     "output_type": "stream",
     "text": [
      " Y\n"
     ]
    },
    {
     "name": "stdout",
     "output_type": "stream",
     "text": [
      "Trying to download dataset from https://files.grouplens.org/datasets/movielens/ml-100k.zip...\n",
      "Done! Dataset ml-100k has been saved to C:\\Users\\14ken/.surprise_data/ml-100k\n",
      "Пайдаланушылар саны: 943\n"
     ]
    }
   ],
   "source": [
    "#Тапсырма 9.10.1 TrainingSet-тегі пайдаланушылар санын табу:\n",
    "from surprise.model_selection import train_test_split\n",
    "\n",
    "# Деректерді оқу\n",
    "data = surprise.Dataset.load_builtin(\"ml-100k\")\n",
    "trainset, testset = train_test_split(data, test_size=0.2)\n",
    "\n",
    "# TrainingSet-тегі пайдаланушылар санын табу\n",
    "print(\"Пайдаланушылар саны:\", trainset.n_users)\n"
   ]
  },
  {
   "cell_type": "code",
   "execution_count": 55,
   "id": "9be92fc0-616b-4b30-8f2e-ca633a8f9850",
   "metadata": {},
   "outputs": [
    {
     "name": "stdout",
     "output_type": "stream",
     "text": [
      "Элементтер (фильмдер) саны: 1650\n"
     ]
    }
   ],
   "source": [
    "#Тапсырма 9.10.2\n",
    "#TrainingSet-тегі элементтер (фильмдер) санын табу:\n",
    "print(\"Элементтер (фильмдер) саны:\", trainset.n_items)\n"
   ]
  },
  {
   "cell_type": "code",
   "execution_count": 56,
   "id": "4f8f1b1c-7a9d-497c-9fd6-625d3831e94a",
   "metadata": {},
   "outputs": [
    {
     "name": "stdout",
     "output_type": "stream",
     "text": [
      "Орташа рейтинг: 3.53\n"
     ]
    }
   ],
   "source": [
    "#Тапсырма 9.10.3\n",
    "#Барлық рейтингтердің орташа мәнін шығару (жүздікке дейін дөңгелектеп):\n",
    "mean_rating = round(trainset.global_mean, 2)\n",
    "print(\"Орташа рейтинг:\", mean_rating)\n"
   ]
  },
  {
   "cell_type": "code",
   "execution_count": 57,
   "id": "42c3b02e-5cea-4466-bacd-0623d4372e67",
   "metadata": {},
   "outputs": [
    {
     "name": "stdout",
     "output_type": "stream",
     "text": [
      "Computing the msd similarity matrix...\n",
      "Done computing similarity matrix.\n",
      "8-ші индекстегі фильм ID: 1192\n"
     ]
    }
   ],
   "source": [
    "#Тапсырма 9.10.4\n",
    "#User-based KNNBasic алгоритмін қолданып testset үшін ұсыныс жасау және 8-ші индекстегі болжамды шығару:\n",
    "from surprise import KNNBasic\n",
    "from surprise import Dataset\n",
    "from surprise.model_selection import train_test_split\n",
    "\n",
    "# Модельді құру\n",
    "algo_knn = KNNBasic()\n",
    "algo_knn.fit(trainset)\n",
    "\n",
    "# Болжам жасау\n",
    "predictions_knn = algo_knn.test(testset)\n",
    "\n",
    "# 8-ші индекстегі ұсынылған фильмнің ID-і\n",
    "print(\"8-ші индекстегі фильм ID:\", predictions_knn[8].iid)\n"
   ]
  },
  {
   "cell_type": "code",
   "execution_count": 58,
   "id": "8140bce8-b60a-4b00-8772-a6282bc888d1",
   "metadata": {},
   "outputs": [
    {
     "name": "stdout",
     "output_type": "stream",
     "text": [
      "Айырма: 0.576\n"
     ]
    }
   ],
   "source": [
    "#Тапсырма 9.10.5\n",
    "#SVD алгоритмін қолдану, 42-ші индекстегі болжам үшін нақты және бағаланған мән айырмасын есептеу:\n",
    "from surprise import SVD\n",
    "\n",
    "# SVD алгоритмін жаттықтыру\n",
    "algo_svd = SVD(random_state=829)\n",
    "algo_svd.fit(trainset)\n",
    "\n",
    "# Болжам жасау\n",
    "predictions_svd = algo_svd.test(testset)\n",
    "\n",
    "# 42-ші индекстегі нақты және бағаланған рейтинг айырмасы\n",
    "diff = abs(predictions_svd[42].r_ui - predictions_svd[42].est)\n",
    "print(\"Айырма:\", round(diff, 3))\n"
   ]
  },
  {
   "cell_type": "code",
   "execution_count": 59,
   "id": "cc7cdd61-f35a-4256-87d4-7555f344100e",
   "metadata": {},
   "outputs": [
    {
     "name": "stdout",
     "output_type": "stream",
     "text": [
      "RMSE: 0.9896\n",
      "RMSE: 0.9418\n",
      "Ең жақсы RMSE: 0.94\n"
     ]
    }
   ],
   "source": [
    "#Тапсырма 9.10.6\n",
    "#Екі алгоритм үшін RMSE мәнін есептеу және ең жақсысын табу:\n",
    "from surprise import accuracy\n",
    "\n",
    "# RMSE мәндерін есептеу\n",
    "rmse_knn = accuracy.rmse(predictions_knn)\n",
    "rmse_svd = accuracy.rmse(predictions_svd)\n",
    "\n",
    "# Ең жақсы алгоритмді табу\n",
    "best_rmse = min(rmse_knn, rmse_svd)\n",
    "print(\"Ең жақсы RMSE:\", round(best_rmse, 2))\n"
   ]
  },
  {
   "cell_type": "code",
   "execution_count": 60,
   "id": "b7636c52-c835-497c-b3ed-c7c528c204e9",
   "metadata": {},
   "outputs": [
    {
     "data": {
      "text/html": [
       "<div>\n",
       "<style scoped>\n",
       "    .dataframe tbody tr th:only-of-type {\n",
       "        vertical-align: middle;\n",
       "    }\n",
       "\n",
       "    .dataframe tbody tr th {\n",
       "        vertical-align: top;\n",
       "    }\n",
       "\n",
       "    .dataframe thead th {\n",
       "        text-align: right;\n",
       "    }\n",
       "</style>\n",
       "<table border=\"1\" class=\"dataframe\">\n",
       "  <thead>\n",
       "    <tr style=\"text-align: right;\">\n",
       "      <th></th>\n",
       "      <th>user_id</th>\n",
       "      <th>movie_id</th>\n",
       "      <th>rating</th>\n",
       "      <th>3</th>\n",
       "    </tr>\n",
       "  </thead>\n",
       "  <tbody>\n",
       "    <tr>\n",
       "      <th>0</th>\n",
       "      <td>196</td>\n",
       "      <td>242</td>\n",
       "      <td>3.0</td>\n",
       "      <td>881250949</td>\n",
       "    </tr>\n",
       "    <tr>\n",
       "      <th>1</th>\n",
       "      <td>186</td>\n",
       "      <td>302</td>\n",
       "      <td>3.0</td>\n",
       "      <td>891717742</td>\n",
       "    </tr>\n",
       "    <tr>\n",
       "      <th>2</th>\n",
       "      <td>22</td>\n",
       "      <td>377</td>\n",
       "      <td>1.0</td>\n",
       "      <td>878887116</td>\n",
       "    </tr>\n",
       "    <tr>\n",
       "      <th>3</th>\n",
       "      <td>244</td>\n",
       "      <td>51</td>\n",
       "      <td>2.0</td>\n",
       "      <td>880606923</td>\n",
       "    </tr>\n",
       "    <tr>\n",
       "      <th>4</th>\n",
       "      <td>166</td>\n",
       "      <td>346</td>\n",
       "      <td>1.0</td>\n",
       "      <td>886397596</td>\n",
       "    </tr>\n",
       "  </tbody>\n",
       "</table>\n",
       "</div>"
      ],
      "text/plain": [
       "  user_id movie_id  rating          3\n",
       "0     196      242     3.0  881250949\n",
       "1     186      302     3.0  891717742\n",
       "2      22      377     1.0  878887116\n",
       "3     244       51     2.0  880606923\n",
       "4     166      346     1.0  886397596"
      ]
     },
     "execution_count": 60,
     "metadata": {},
     "output_type": "execute_result"
    }
   ],
   "source": [
    "#Тапсырма 9.10.7 \n",
    "df = pd.DataFrame(data.raw_ratings)\n",
    "df.columns = ['user_id', 'movie_id', 'rating', 3]\n",
    "df.head()\n"
   ]
  },
  {
   "cell_type": "code",
   "execution_count": 67,
   "id": "c9d61929-d5a1-4f50-ac58-f657af79c09d",
   "metadata": {},
   "outputs": [
    {
     "name": "stdout",
     "output_type": "stream",
     "text": [
      "4 435 153 310 258 319 887 211 325 202 8\n"
     ]
    }
   ],
   "source": [
    "import pandas as pd\n",
    "\n",
    "# 4 және одан жоғары бағаланған фильмдер үшін мәтіндік жолды құру\n",
    "high_rated = df[df['rating'] >= 4]\n",
    "\n",
    "# Әрбір пайдаланушы үшін фильмдерді жинақтап, мәтіндік жол ретінде көрсету\n",
    "movie_groups = high_rated.groupby('user_id')['movie_id'].apply(lambda x: ' '.join(map(str, x)))\n",
    "\n",
    "# user_id 100 үшін жолды шығару\n",
    "print(movie_groups.iloc[100])\n",
    "\n"
   ]
  },
  {
   "cell_type": "code",
   "execution_count": 69,
   "id": "f6eb823e-8b41-4214-9056-13c1f4411b70",
   "metadata": {},
   "outputs": [
    {
     "name": "stdout",
     "output_type": "stream",
     "text": [
      "Ережелер саны: 10\n"
     ]
    }
   ],
   "source": [
    "#Apyori модулінен ассоциативті ережелерді есептеу\n",
    "from apyori import apriori\n",
    "\n",
    "# Жоғары баға алған фильмдердің жиынтығын жинақтаймыз\n",
    "transactions = high_rated.groupby('user_id')['movie_id'].apply(list).values.tolist()\n",
    "\n",
    "# apriori алгоритмін пайдалану\n",
    "rules = apriori(transactions, min_support=0.2, min_confidence=0.3, min_lift=2, min_length=2)\n",
    "\n",
    "# Ережелердің санын шығару\n",
    "rules_list = list(rules)\n",
    "print(\"Ережелер саны:\", len(rules_list))\n"
   ]
  },
  {
   "cell_type": "code",
   "execution_count": 68,
   "id": "43202bd5-735b-413b-a2de-2e648ac32ed0",
   "metadata": {},
   "outputs": [
    {
     "name": "stdout",
     "output_type": "stream",
     "text": [
      "Ең жиі кездесетін фильм id: 50\n"
     ]
    }
   ],
   "source": [
    "#Қай фильм жиі кездеседі?\n",
    "# Фильмдердің жиілігін есептеу\n",
    "movie_counts = high_rated['movie_id'].value_counts()\n",
    "\n",
    "# Ең жиі кездесетін фильм id-ін шығару\n",
    "most_frequent_movie_id = movie_counts.idxmax()\n",
    "print(\"Ең жиі кездесетін фильм id:\", most_frequent_movie_id)\n"
   ]
  },
  {
   "cell_type": "code",
   "execution_count": null,
   "id": "cc620407-2ca0-4487-9e70-1a784dee897f",
   "metadata": {},
   "outputs": [],
   "source": []
  }
 ],
 "metadata": {
  "kernelspec": {
   "display_name": "Python 3 (ipykernel)",
   "language": "python",
   "name": "python3"
  },
  "language_info": {
   "codemirror_mode": {
    "name": "ipython",
    "version": 3
   },
   "file_extension": ".py",
   "mimetype": "text/x-python",
   "name": "python",
   "nbconvert_exporter": "python",
   "pygments_lexer": "ipython3",
   "version": "3.11.7"
  },
  "widgets": {
   "application/vnd.jupyter.widget-state+json": {
    "state": {},
    "version_major": 2,
    "version_minor": 0
   }
  }
 },
 "nbformat": 4,
 "nbformat_minor": 5
}

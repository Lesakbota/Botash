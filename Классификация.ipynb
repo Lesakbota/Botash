{
 "cells": [
  {
   "cell_type": "code",
   "execution_count": 1,
   "id": "d16949ec-f6b7-482a-8425-ecf03d61c4eb",
   "metadata": {},
   "outputs": [
    {
     "name": "stdout",
     "output_type": "stream",
     "text": [
      "Accuracy: 0.5714\n"
     ]
    }
   ],
   "source": [
    "#3B.2.1 тапсырмасы Дұрыс және қате классификацияланған жаңалықтар саны\n",
    "TP = 6  # Дұрыс анықталған саяси жаңалықтар\n",
    "TN = 14 # Дұрыс анықталған экономикалық жаңалықтар\n",
    "FP = 9  # Қате экономикалық деп белгіленген саяси жаңалықтар\n",
    "FN = 6  # Қате саяси деп белгіленген экономикалық жаңалықтар\n",
    "\n",
    "# Accuracy формуласы\n",
    "accuracy = (TP + TN) / (TP + TN + FP + FN)\n",
    "\n",
    "# Нәтижені шығару\n",
    "print(f\"Accuracy: {accuracy:.4f}\")\n"
   ]
  },
  {
   "cell_type": "code",
   "execution_count": 2,
   "id": "e1d2e38e-f9e9-45d2-8398-d0ed0794b87d",
   "metadata": {},
   "outputs": [
    {
     "name": "stdout",
     "output_type": "stream",
     "text": [
      "Accuracy: 0.9778\n"
     ]
    }
   ],
   "source": [
    "#3B.2.2 тапсырмасы\n",
    "import numpy as np\n",
    "from sklearn.datasets import load_iris\n",
    "from sklearn.model_selection import train_test_split\n",
    "from sklearn.linear_model import LogisticRegression\n",
    "from sklearn.metrics import accuracy_score\n",
    "\n",
    "# Мәліметтерді жүктеу\n",
    "data = load_iris()\n",
    "X, y = data.data, data.target  \n",
    "\n",
    "# Оқыту және тестке бөлу\n",
    "X_train, X_test, y_train, y_test = train_test_split(X, y, test_size=0.3, random_state=50)\n",
    "\n",
    "# Логистикалық регрессия моделі\n",
    "model = LogisticRegression(max_iter=200)\n",
    "model.fit(X_train, y_train)\n",
    "\n",
    "# Болжау және дәлдік (Accuracy) есептеу\n",
    "pred = model.predict(X_test)\n",
    "acc = accuracy_score(y_test, pred)\n",
    "\n",
    "# Нәтиже шығару\n",
    "print(f\"Accuracy: {acc:.4f}\")\n"
   ]
  },
  {
   "cell_type": "code",
   "execution_count": 3,
   "id": "9ccad65c-960d-4a66-9ee0-607b70fc53dd",
   "metadata": {},
   "outputs": [
    {
     "name": "stdout",
     "output_type": "stream",
     "text": [
      "   battery_power  blue  clock_speed  dual_sim  fc  four_g  int_memory  m_dep  \\\n",
      "0            842     0          2.2         0   1       0           7    0.6   \n",
      "1           1021     1          0.5         1   0       1          53    0.7   \n",
      "2            563     1          0.5         1   2       1          41    0.9   \n",
      "3            615     1          2.5         0   0       0          10    0.8   \n",
      "4           1821     1          1.2         0  13       1          44    0.6   \n",
      "\n",
      "   mobile_wt  n_cores  ...  px_height  px_width   ram  sc_h  sc_w  talk_time  \\\n",
      "0        188        2  ...         20       756  2549     9     7         19   \n",
      "1        136        3  ...        905      1988  2631    17     3          7   \n",
      "2        145        5  ...       1263      1716  2603    11     2          9   \n",
      "3        131        6  ...       1216      1786  2769    16     8         11   \n",
      "4        141        2  ...       1208      1212  1411     8     2         15   \n",
      "\n",
      "   three_g  touch_screen  wifi  price_range  \n",
      "0        0             0     1            0  \n",
      "1        1             1     0            1  \n",
      "2        1             1     0            1  \n",
      "3        1             0     0            1  \n",
      "4        1             1     0            0  \n",
      "\n",
      "[5 rows x 21 columns]\n",
      "Ең маңызды 5 белгі: ['ram', 'battery_power', 'px_width', 'px_height', 'touch_screen']\n"
     ]
    }
   ],
   "source": [
    "#3B.3. Классификация. Практика\n",
    "import pandas as pd\n",
    "\n",
    "# Мәліметтерді дұрыс бөлгішпен жүктеу (нүктелі үтір болуы мүмкін)\n",
    "df = pd.read_csv(r\"C:\\Users\\14ken\\Downloads\\train_mobile.csv\", sep=\";\")\n",
    "\n",
    "# Деректердің алғашқы жолдарын қарап шығу\n",
    "print(df.head())\n",
    "\n",
    "# Сандық айнымалыларды таңдау\n",
    "df = df.apply(pd.to_numeric, errors='ignore')\n",
    "\n",
    "# Корреляцияны есептеу\n",
    "corr = df.corr(numeric_only=True)\n",
    "\n",
    "# price_range айнымалысымен ең жоғары корреляцияға ие 5 белгіні таңдау\n",
    "top_features = corr[\"price_range\"].abs().sort_values(ascending=False).index[1:6]\n",
    "\n",
    "# Нәтижені шығару\n",
    "print(\"Ең маңызды 5 белгі:\", list(top_features))\n",
    "\n",
    "\n",
    "\n"
   ]
  },
  {
   "cell_type": "code",
   "execution_count": 4,
   "id": "b03c37c4-59dd-401d-9f2d-db1663d653b3",
   "metadata": {},
   "outputs": [
    {
     "name": "stdout",
     "output_type": "stream",
     "text": [
      "Модельдің дәлдігі (Accuracy): 0.9875\n"
     ]
    }
   ],
   "source": [
    "from sklearn.model_selection import train_test_split\n",
    "from sklearn.linear_model import LogisticRegression\n",
    "from sklearn.metrics import accuracy_score\n",
    "\n",
    "# Таңдалған белгілер\n",
    "features = ['ram', 'battery_power', 'px_width', 'px_height', 'touch_screen']\n",
    "X = df[features]  # Тәуелсіз айнымалылар\n",
    "y = df[\"price_range\"]  # Нысаналы айнымалы (мақсат)\n",
    "\n",
    "# Оқыту және тестке бөлу (80% - train, 20% - test)\n",
    "X_train, X_test, y_train, y_test = train_test_split(X, y, test_size=0.2, random_state=31)\n",
    "\n",
    "# Логистикалық регрессия моделін құру және үйрету\n",
    "model = LogisticRegression()\n",
    "model.fit(X_train, y_train)\n",
    "\n",
    "# Болжау және дәлдік (accuracy) есептеу\n",
    "y_pred = model.predict(X_test)\n",
    "acc = accuracy_score(y_test, y_pred)\n",
    "\n",
    "# Нәтижені шығару\n",
    "print(f\"Модельдің дәлдігі (Accuracy): {acc:.4f}\")\n"
   ]
  },
  {
   "cell_type": "code",
   "execution_count": 5,
   "id": "501406e2-456f-4703-a6e4-5e86cf239fc6",
   "metadata": {},
   "outputs": [
    {
     "name": "stdout",
     "output_type": "stream",
     "text": [
      "Precision: 0.9859\n"
     ]
    }
   ],
   "source": [
    "#3B.3.3 тапсырмасы — Метрика мәні\n",
    "from sklearn.model_selection import train_test_split\n",
    "from sklearn.linear_model import LogisticRegression\n",
    "from sklearn.metrics import precision_score\n",
    "\n",
    "# Таңдалған белгілер\n",
    "features = [\"ram\", \"battery_power\", \"px_width\", \"px_height\", \"touch_screen\"]\n",
    "X = df[features]\n",
    "y = df[\"price_range\"]\n",
    "\n",
    "# Мәліметтерді бөлу (тест 20%, random_state=31)\n",
    "X_train, X_test, y_train, y_test = train_test_split(X, y, test_size=0.2, random_state=31)\n",
    "\n",
    "# Логистикалық регрессия моделін жаттықтыру\n",
    "model = LogisticRegression()\n",
    "model.fit(X_train, y_train)\n",
    "\n",
    "# Болжау\n",
    "y_pred = model.predict(X_test)\n",
    "\n",
    "# Precision метрикасын есептеу\n",
    "precision = precision_score(y_test, y_pred)\n",
    "\n",
    "# Нәтиже шығару (4 таңбалы дәлдік)\n",
    "print(f\"Precision: {precision:.4f}\")\n"
   ]
  },
  {
   "cell_type": "code",
   "execution_count": 6,
   "id": "18aec824-03a8-4fd1-8dc7-e99bd34df98d",
   "metadata": {},
   "outputs": [
    {
     "name": "stdout",
     "output_type": "stream",
     "text": [
      "LogLoss: 0.59\n"
     ]
    }
   ],
   "source": [
    "#3B.5.3 тапсырмасы\n",
    "import numpy as np\n",
    "\n",
    "# Берілген мәндер\n",
    "y_pred = np.array([0.2, 0.8, 1.0, 0.6])  # Болжау\n",
    "y_true = np.array([0, 0, 1, 1])  # Шынайы мәндер\n",
    "\n",
    "# Өте кіші мән (log(0) қателерін болдырмау үшін)\n",
    "epsilon = 1e-15  # 10^(-15) өте кішкентай сан\n",
    "\n",
    "# y_pred мәндерін 0 мен 1 аралығында қалдыру (0.000000000000001 < y_pred < 0.999999999999999)\n",
    "y_pred = np.clip(y_pred, epsilon, 1 - epsilon)\n",
    "\n",
    "# LogLoss формуласы\n",
    "logloss = -np.mean(y_true * np.log(y_pred) + (1 - y_true) * np.log(1 - y_pred))\n",
    "\n",
    "# Нәтижені екі таңбаға дейін дөңгелектеу\n",
    "print(f\"LogLoss: {logloss:.2f}\")\n",
    "\n"
   ]
  },
  {
   "cell_type": "code",
   "execution_count": 7,
   "id": "13ba4cb1-e4a0-41db-84a0-d143324504ba",
   "metadata": {},
   "outputs": [
    {
     "name": "stdout",
     "output_type": "stream",
     "text": [
      "LogLoss: 1.00\n"
     ]
    }
   ],
   "source": [
    "#3B.5.4 тапсырмасы\n",
    "import numpy as np\n",
    "\n",
    "# Болжанған ықтималдықтар (3 сынып)\n",
    "y_pred = np.array([\n",
    "    [0.2, 0.3, 0.5],\n",
    "    [0, 0, 1],\n",
    "    [0.1, 0, 0.9]\n",
    "])\n",
    "\n",
    "# Нақты сыныптар (дұрыс one-hot кодтау)\n",
    "y_true = np.array([\n",
    "    [0, 0, 1],  # 3-сынып\n",
    "    [0, 0, 1],  # 3-сынып\n",
    "    [1, 0, 0]   # 1-сынып\n",
    "])\n",
    "\n",
    "# log(0) қатесін болдырмау\n",
    "epsilon = 1e-15\n",
    "y_pred = np.clip(y_pred, epsilon, 1 - epsilon)\n",
    "\n",
    "# LogLoss формуласы\n",
    "logloss = -np.mean(np.sum(y_true * np.log(y_pred), axis=1))\n",
    "\n",
    "# Нәтижені екі таңбаға дейін дөңгелектеу\n",
    "print(f\"LogLoss: {logloss:.2f}\")\n"
   ]
  },
  {
   "cell_type": "code",
   "execution_count": 8,
   "id": "16a5898f-4232-41dd-b900-aef16d47f63a",
   "metadata": {},
   "outputs": [
    {
     "name": "stdout",
     "output_type": "stream",
     "text": [
      "   age         workclass  fnlwgt  education  education-num  \\\n",
      "0   39         State-gov   77516  Bachelors             13   \n",
      "1   50  Self-emp-not-inc   83311  Bachelors             13   \n",
      "2   38           Private  215646    HS-grad              9   \n",
      "3   53           Private  234721       11th              7   \n",
      "4   28           Private  338409  Bachelors             13   \n",
      "\n",
      "       marital-status         occupation   relationship   race     sex  \\\n",
      "0       Never-married       Adm-clerical  Not-in-family  White    Male   \n",
      "1  Married-civ-spouse    Exec-managerial        Husband  White    Male   \n",
      "2            Divorced  Handlers-cleaners  Not-in-family  White    Male   \n",
      "3  Married-civ-spouse  Handlers-cleaners        Husband  Black    Male   \n",
      "4  Married-civ-spouse     Prof-specialty           Wife  Black  Female   \n",
      "\n",
      "   capital-gain  capital-loss  hours-per-week native-country salary  \n",
      "0          2174             0              40  United-States  <=50K  \n",
      "1             0             0              13  United-States  <=50K  \n",
      "2             0             0              40  United-States  <=50K  \n",
      "3             0             0              40  United-States  <=50K  \n",
      "4             0             0              40           Cuba  <=50K  \n"
     ]
    }
   ],
   "source": [
    "# Тапсырма 3B.6.1 \n",
    "import pandas as pd\n",
    "\n",
    "# Деректерді жүктеу\n",
    "columns = ['age', 'workclass', 'fnlwgt', 'education', 'education-num', 'marital-status',\n",
    "           'occupation', 'relationship', 'race', 'sex', 'capital-gain', 'capital-loss',\n",
    "           'hours-per-week', 'native-country', 'salary']\n",
    "\n",
    "adult = pd.read_csv(\"https://archive.ics.uci.edu/ml/machine-learning-databases/adult/adult.data\",\n",
    "                    names=columns, sep=\",\", skipinitialspace=True)\n",
    "\n",
    "# Алғашқы 5 жолды қарау\n",
    "print(adult.head())\n"
   ]
  },
  {
   "cell_type": "code",
   "execution_count": 9,
   "id": "1364c173-2f0d-48d1-b70f-6d07de187b39",
   "metadata": {},
   "outputs": [
    {
     "name": "stdout",
     "output_type": "stream",
     "text": [
      "   age  fnlwgt  education-num  capital-gain  capital-loss  hours-per-week  \\\n",
      "0   39   77516             13          2174             0              40   \n",
      "1   50   83311             13             0             0              13   \n",
      "2   38  215646              9             0             0              40   \n",
      "3   53  234721              7             0             0              40   \n",
      "4   28  338409             13             0             0              40   \n",
      "\n",
      "   workclass_Federal-gov  workclass_Local-gov  workclass_Never-worked  \\\n",
      "0                  False                False                   False   \n",
      "1                  False                False                   False   \n",
      "2                  False                False                   False   \n",
      "3                  False                False                   False   \n",
      "4                  False                False                   False   \n",
      "\n",
      "   workclass_Private  ...  native-country_Puerto-Rico  \\\n",
      "0              False  ...                       False   \n",
      "1              False  ...                       False   \n",
      "2               True  ...                       False   \n",
      "3               True  ...                       False   \n",
      "4               True  ...                       False   \n",
      "\n",
      "   native-country_Scotland  native-country_South  native-country_Taiwan  \\\n",
      "0                    False                 False                  False   \n",
      "1                    False                 False                  False   \n",
      "2                    False                 False                  False   \n",
      "3                    False                 False                  False   \n",
      "4                    False                 False                  False   \n",
      "\n",
      "   native-country_Thailand  native-country_Trinadad&Tobago  \\\n",
      "0                    False                           False   \n",
      "1                    False                           False   \n",
      "2                    False                           False   \n",
      "3                    False                           False   \n",
      "4                    False                           False   \n",
      "\n",
      "   native-country_United-States  native-country_Vietnam  \\\n",
      "0                          True                   False   \n",
      "1                          True                   False   \n",
      "2                          True                   False   \n",
      "3                          True                   False   \n",
      "4                         False                   False   \n",
      "\n",
      "   native-country_Yugoslavia  salary  \n",
      "0                      False   False  \n",
      "1                      False   False  \n",
      "2                      False   False  \n",
      "3                      False   False  \n",
      "4                      False   False  \n",
      "\n",
      "[5 rows x 101 columns]\n"
     ]
    }
   ],
   "source": [
    "# Сандық емес бағандарды dummy-переменные (one-hot encoding) түріне айналдыру\n",
    "adult = pd.get_dummies(adult, drop_first=True)\n",
    "\n",
    "# Мақсатты айнымалыны (salary) бинарлық түрге ауыстыру\n",
    "adult[\"salary\"] = adult[\"salary_>50K\"]\n",
    "adult = adult.drop(columns=[\"salary_>50K\"])  # Артық бағанды жоямыз\n",
    "\n",
    "# Нәтижені шығару\n",
    "print(adult.head())\n"
   ]
  },
  {
   "cell_type": "code",
   "execution_count": 10,
   "id": "08f05939-e288-4b03-a0f4-f8ed5f366143",
   "metadata": {},
   "outputs": [
    {
     "name": "stdout",
     "output_type": "stream",
     "text": [
      "F1-score: 0.4298\n"
     ]
    }
   ],
   "source": [
    "from sklearn.model_selection import train_test_split\n",
    "from sklearn.linear_model import LogisticRegression\n",
    "from sklearn.metrics import f1_score\n",
    "\n",
    "# Белгілер мен мақсатты айнымалыны бөлу\n",
    "X = adult.drop(columns=[\"salary\"])\n",
    "y = adult[\"salary\"]\n",
    "\n",
    "# Мәліметтерді оқу және тест жиындарына бөлу (80% - train, 20% - test)\n",
    "X_train, X_test, y_train, y_test = train_test_split(X, y, test_size=0.2, random_state=42)\n",
    "\n",
    "# Логистикалық регрессия моделін құру\n",
    "model = LogisticRegression(max_iter=500)  # Итерация санын көбейту (конвергенция үшін)\n",
    "model.fit(X_train, y_train)\n",
    "\n",
    "# Болжау жасау\n",
    "y_pred = model.predict(X_test)\n",
    "\n",
    "# F1-score есептеу\n",
    "f1 = f1_score(y_test, y_pred)\n",
    "\n",
    "# Нәтижені шығару\n",
    "print(f\"F1-score: {f1:.4f}\")\n"
   ]
  },
  {
   "cell_type": "code",
   "execution_count": 11,
   "id": "4e53beb9-4c46-4cf0-ba80-481a7e273f97",
   "metadata": {},
   "outputs": [
    {
     "name": "stdout",
     "output_type": "stream",
     "text": [
      "Confusion Matrix:\n",
      "[[4613  329]\n",
      " [1051  520]]\n"
     ]
    }
   ],
   "source": [
    "# 3B.6.2 Тапсырмасы – Қателіктер матрицасын есептеу (Confusion Matrix)\n",
    "from sklearn.metrics import confusion_matrix\n",
    "\n",
    "# Қателіктер матрицасын есептеу\n",
    "cm = confusion_matrix(y_test, y_pred)\n",
    "\n",
    "# Нәтижені шығару\n",
    "print(\"Confusion Matrix:\")\n",
    "print(cm)\n"
   ]
  },
  {
   "cell_type": "code",
   "execution_count": 12,
   "id": "b42152e3-8ff0-4c1f-98d2-98cd3f842228",
   "metadata": {},
   "outputs": [
    {
     "data": {
      "image/png": "[encoded data removed]",
      "text/plain": [
       "<Figure size 800x600 with 1 Axes>"
      ]
     },
     "metadata": {},
     "output_type": "display_data"
    },
    {
     "name": "stdout",
     "output_type": "stream",
     "text": [
      "ROC AUC Score: 0.8269\n"
     ]
    }
   ],
   "source": [
    "import matplotlib.pyplot as plt\n",
    "from sklearn.metrics import roc_curve, roc_auc_score\n",
    "\n",
    "# Ықтималдықты есептеу (predict_proba қолдану керек)\n",
    "y_prob = model.predict_proba(X_test)[:, 1]\n",
    "\n",
    "# ROC-қисық тұрғызу\n",
    "fpr, tpr, _ = roc_curve(y_test, y_prob)\n",
    "auc = roc_auc_score(y_test, y_prob)\n",
    "\n",
    "# График салу\n",
    "plt.figure(figsize=(8, 6))\n",
    "plt.plot(fpr, tpr, label=f\"ROC Curve (AUC = {auc:.4f})\", color=\"blue\")\n",
    "plt.plot([0, 1], [0, 1], linestyle=\"--\", color=\"gray\")\n",
    "plt.xlabel(\"False Positive Rate\")\n",
    "plt.ylabel(\"True Positive Rate\")\n",
    "plt.title(\"ROC Curve\")\n",
    "plt.legend()\n",
    "plt.show()\n",
    "\n",
    "# AUC мәнін шығару\n",
    "print(f\"ROC AUC Score: {auc:.4f}\")\n"
   ]
  },
  {
   "cell_type": "code",
   "execution_count": 13,
   "id": "dcb04542-7544-45f2-8cb3-9b9dfdaae5d7",
   "metadata": {},
   "outputs": [
    {
     "name": "stdout",
     "output_type": "stream",
     "text": [
      "F1-score (регуляризациясыз): 0.3939\n"
     ]
    }
   ],
   "source": [
    "# 3B.6.4 Тапсырмасы – Регуляризациясыз логистикалық регрессияны үйретіп, F1-score анықтау\n",
    "# Регуляризациясыз логистикалық регрессия (penalty=None)\n",
    "model_no_reg = LogisticRegression(penalty=None, max_iter=500)\n",
    "model_no_reg.fit(X_train, y_train)\n",
    "\n",
    "# Болжау жасау\n",
    "y_pred_no_reg = model_no_reg.predict(X_test)\n",
    "\n",
    "# F1-score есептеу\n",
    "f1_no_reg = f1_score(y_test, y_pred_no_reg)\n",
    "\n",
    "# Нәтижені шығару\n",
    "print(f\"F1-score (регуляризациясыз): {f1_no_reg:.4f}\")\n"
   ]
  },
  {
   "cell_type": "code",
   "execution_count": 14,
   "id": "195bb907-ab59-4ed8-a765-ab61ac598505",
   "metadata": {},
   "outputs": [
    {
     "name": "stdout",
     "output_type": "stream",
     "text": [
      "Ең жақсы F1-score: 0.6142, ең жақсы C: 0.37\n"
     ]
    }
   ],
   "source": [
    "# 3B.6.5 Тапсырмасы – Регуляризация коэффициентін таңдау (L2)\n",
    "import numpy as np\n",
    "\n",
    "# Коэффициенттердің тізімі\n",
    "C_values = np.arange(0.01, 1.01, 0.01)\n",
    "\n",
    "best_f1 = 0\n",
    "best_C = None\n",
    "\n",
    "# Әртүрлі L2 коэффициенттерімен модельді сынау\n",
    "for C in C_values:\n",
    "    model = LogisticRegression(C=C, max_iter=500)\n",
    "    model.fit(X_train, y_train)\n",
    "    y_pred = model.predict(X_test)\n",
    "    f1 = f1_score(y_test, y_pred)\n",
    "\n",
    "    if f1 > best_f1:\n",
    "        best_f1 = f1\n",
    "        best_C = C\n",
    "\n",
    "# Нәтижені шығару\n",
    "print(f\"Ең жақсы F1-score: {best_f1:.4f}, ең жақсы C: {best_C:.2f}\")\n"
   ]
  },
  {
   "cell_type": "code",
   "execution_count": 15,
   "id": "da174c54-a289-48a8-8517-e0848e02fc4f",
   "metadata": {},
   "outputs": [],
   "source": [
    "import pandas as pd\n",
    "\n",
    "columns = ['age', 'workclass', 'fnlwgt', 'education', 'education-num', 'marital-status',\n",
    "           'occupation', 'relationship', 'race', 'sex', 'capital-gain', 'capital-loss',\n",
    "           'hours-per-week', 'native-country', 'salary']\n",
    "\n",
    "adult = pd.read_csv(\"https://archive.ics.uci.edu/ml/machine-learning-databases/adult/adult.data\",\n",
    "                    names=columns, sep=\",\", skipinitialspace=True)\n"
   ]
  },
  {
   "cell_type": "code",
   "execution_count": 16,
   "id": "71293bee-d205-411b-8a0f-48e87a8aa296",
   "metadata": {},
   "outputs": [
    {
     "name": "stdout",
     "output_type": "stream",
     "text": [
      "native-country\n",
      "United-States    29170\n",
      "other             1389\n",
      "Mexico             643\n",
      "?                  583\n",
      "Philippines        198\n",
      "Germany            137\n",
      "Canada             121\n",
      "Puerto-Rico        114\n",
      "El-Salvador        106\n",
      "India              100\n",
      "Name: count, dtype: int64\n"
     ]
    }
   ],
   "source": [
    "#3B.6.6 Тапсырмасы – native-country бағанын өңдеу\n",
    "\n",
    "# Елдердің таралуын тексеру\n",
    "country_counts = adult[\"native-country\"].value_counts()\n",
    "\n",
    "# 100 жазбадан аз елдерді \"other\" деп белгілеу\n",
    "adult[\"native-country\"] = adult[\"native-country\"].apply(lambda x: \"other\" if country_counts[x] < 100 else x)\n",
    "\n",
    "# Өзгерістерді тексеру\n",
    "print(adult[\"native-country\"].value_counts())\n"
   ]
  },
  {
   "cell_type": "code",
   "execution_count": 22,
   "id": "27880c99-f48f-499a-bbc4-e37220c5a29d",
   "metadata": {},
   "outputs": [
    {
     "name": "stdout",
     "output_type": "stream",
     "text": [
      "  native-country\n",
      "0  United-States\n",
      "1  United-States\n",
      "2  United-States\n",
      "3  United-States\n",
      "4          other\n"
     ]
    }
   ],
   "source": [
    "print(adult.select_dtypes(include=['object']).head())\n"
   ]
  },
  {
   "cell_type": "code",
   "execution_count": 17,
   "id": "d8f307a7-97eb-4f74-971f-d89fbee73208",
   "metadata": {},
   "outputs": [
    {
     "name": "stdout",
     "output_type": "stream",
     "text": [
      "   age  fnlwgt  education-num  capital-gain  capital-loss  hours-per-week  \\\n",
      "0   39   77516             13          2174             0              40   \n",
      "1   50   83311             13             0             0              13   \n",
      "2   38  215646              9             0             0              40   \n",
      "3   53  234721              7             0             0              40   \n",
      "4   28  338409             13             0             0              40   \n",
      "\n",
      "  native-country salary  workclass_Federal-gov  workclass_Local-gov  ...  \\\n",
      "0  United-States  <=50K                  False                False  ...   \n",
      "1  United-States  <=50K                  False                False  ...   \n",
      "2  United-States  <=50K                  False                False  ...   \n",
      "3  United-States  <=50K                  False                False  ...   \n",
      "4          other  <=50K                  False                False  ...   \n",
      "\n",
      "   relationship_Not-in-family  relationship_Other-relative  \\\n",
      "0                        True                        False   \n",
      "1                       False                        False   \n",
      "2                        True                        False   \n",
      "3                       False                        False   \n",
      "4                       False                        False   \n",
      "\n",
      "   relationship_Own-child  relationship_Unmarried  relationship_Wife  \\\n",
      "0                   False                   False              False   \n",
      "1                   False                   False              False   \n",
      "2                   False                   False              False   \n",
      "3                   False                   False              False   \n",
      "4                   False                   False               True   \n",
      "\n",
      "   race_Asian-Pac-Islander  race_Black  race_Other  race_White  sex_Male  \n",
      "0                    False       False       False        True      True  \n",
      "1                    False       False       False        True      True  \n",
      "2                    False       False       False        True      True  \n",
      "3                    False        True       False       False      True  \n",
      "4                    False        True       False       False     False  \n",
      "\n",
      "[5 rows x 61 columns]\n"
     ]
    }
   ],
   "source": [
    "# Барлық категориялық айнымалыларды dummy-кодтау Dummy-кодтауды қажет ететін айнымалылар\n",
    "categorical_features = [\"workclass\", \"education\", \"marital-status\", \"occupation\",\n",
    "                        \"relationship\", \"race\", \"sex\"]  # \"native-country\" өшірілді\n",
    "\n",
    "# Dummy-кодтау жасау\n",
    "adult = pd.get_dummies(adult, columns=categorical_features, drop_first=True)\n",
    "\n",
    "# Нәтижені тексеру\n",
    "print(adult.head())\n"
   ]
  },
  {
   "cell_type": "code",
   "execution_count": 18,
   "id": "7baf815f-aeec-46b4-805a-a1d1ac77ab1f",
   "metadata": {},
   "outputs": [
    {
     "name": "stdout",
     "output_type": "stream",
     "text": [
      "salary\n",
      "0    24720\n",
      "1     7841\n",
      "Name: count, dtype: int64\n"
     ]
    }
   ],
   "source": [
    "# \"salary\" бағанын бинарлық түрге ауыстыру\n",
    "adult[\"salary\"] = adult[\"salary\"].apply(lambda x: 1 if x == \">50K\" else 0)\n",
    "\n",
    "# Өзгерістерді тексеру\n",
    "print(adult[\"salary\"].value_counts())  # 0 және 1 болуы керек\n"
   ]
  },
  {
   "cell_type": "code",
   "execution_count": 27,
   "id": "42657d56-4e50-4456-b97a-4596f60c1748",
   "metadata": {},
   "outputs": [
    {
     "name": "stdout",
     "output_type": "stream",
     "text": [
      "Жаңа F1-score (барлық категориялық бағандар int түріне өзгертілгеннен кейін): 0.3916\n"
     ]
    }
   ],
   "source": [
    "from sklearn.model_selection import train_test_split\n",
    "from sklearn.linear_model import LogisticRegression\n",
    "from sklearn.metrics import f1_score\n",
    "\n",
    "# Белгілер мен мақсатты айнымалыны бөліп алу\n",
    "X = adult.drop(columns=[\"salary\"])  # Барлық өңделген белгілер\n",
    "y = adult[\"salary\"]  # Мақсатты айнымалы (0 немесе 1)\n",
    "\n",
    "# Мәліметтерді бөлу (80% - train, 20% - test)\n",
    "X_train, X_test, y_train, y_test = train_test_split(X, y, test_size=0.2, random_state=42)\n",
    "\n",
    "# Логистикалық регрессияны іске қосу (C = 0.37)\n",
    "best_C = 0.37\n",
    "model = LogisticRegression(C=best_C, max_iter=500)\n",
    "model.fit(X_train, y_train)\n",
    "\n",
    "# Болжау жасау\n",
    "y_pred = model.predict(X_test)\n",
    "\n",
    "# Жаңа F1-score есептеу\n",
    "new_f1 = f1_score(y_test, y_pred)\n",
    "\n",
    "# Нәтижені шығару\n",
    "print(f\"Жаңа F1-score (барлық категориялық бағандар int түріне өзгертілгеннен кейін): {new_f1:.4f}\")\n",
    "\n"
   ]
  },
  {
   "cell_type": "code",
   "execution_count": 28,
   "id": "315accc3-b379-4b13-93f2-66af3e431bb3",
   "metadata": {},
   "outputs": [
    {
     "name": "stdout",
     "output_type": "stream",
     "text": [
      "Ең жақсы F1-score: 0.6158, ең жақсы C: 0.40\n"
     ]
    }
   ],
   "source": [
    "# L2-регуляризация коэффициентін оңтайландыру\n",
    "# Мүмкін C = 0.37 параметрі енді жақсы нәтиже бермеуі мүмкін\n",
    "#C параметрін 0.01-ден 1.0-ге дейін сынап көрейік.\n",
    "import numpy as np\n",
    "from sklearn.metrics import f1_score\n",
    "\n",
    "# Әртүрлі L2 коэффициенттерімен модельді сынау\n",
    "C_values = np.arange(0.01, 1.01, 0.01)\n",
    "best_f1 = 0\n",
    "best_C = None\n",
    "\n",
    "for C in C_values:\n",
    "    model = LogisticRegression(C=C, max_iter=500)\n",
    "    model.fit(X_train, y_train)\n",
    "    y_pred = model.predict(X_test)\n",
    "    f1 = f1_score(y_test, y_pred)\n",
    "    \n",
    "    if f1 > best_f1:\n",
    "        best_f1 = f1\n",
    "        best_C = C\n",
    "\n",
    "# Ең жақсы нәтижені шығару\n",
    "print(f\"Ең жақсы F1-score: {best_f1:.4f}, ең жақсы C: {best_C:.2f}\")\n",
    "#F1-score көрсеткішін 0.3916-дан 0.6158-ге дейін жақсарды"
   ]
  },
  {
   "cell_type": "code",
   "execution_count": 29,
   "id": "65d3bbdf-0bce-40f3-b062-4ab7660a0ad4",
   "metadata": {},
   "outputs": [
    {
     "name": "stdout",
     "output_type": "stream",
     "text": [
      "F1-score: 0.866\n"
     ]
    }
   ],
   "source": [
    "#Тапсырма 5.2.3\n",
    "import pandas as pd\n",
    "import numpy as np\n",
    "from sklearn.model_selection import train_test_split\n",
    "from sklearn.tree import DecisionTreeClassifier\n",
    "from sklearn.metrics import f1_score\n",
    "\n",
    "# Деректерді жүктеу\n",
    "df = pd.read_csv(\"C:\\\\Users\\\\14ken\\\\Downloads\\\\bill_authentication.csv\")\n",
    "\n",
    "# Тәуелсіз айнымалылар (X) және мақсатты айнымалы (y)\n",
    "X = df.drop(columns=['Class'])\n",
    "y = df['Class']\n",
    "\n",
    "# Мәліметтерді оқыту және тестке бөлу\n",
    "X_train, X_test, y_train, y_test = train_test_split(X, y, test_size=0.2, random_state=17)\n",
    "\n",
    "# Шешім ағашын құру\n",
    "clf = DecisionTreeClassifier(max_depth=3, max_features=2, min_samples_leaf=5, random_state=17)\n",
    "clf.fit(X_train, y_train)\n",
    "\n",
    "# Болжау жасау\n",
    "y_pred = clf.predict(X_test)\n",
    "\n",
    "# F1-score есептеу\n",
    "f1 = f1_score(y_test, y_pred)\n",
    "\n",
    "# Үш ондық орынға дейін дөңгелектеу\n",
    "print(f\"F1-score: {round(f1, 3)}\")\n"
   ]
  },
  {
   "cell_type": "code",
   "execution_count": 31,
   "id": "351a52a1-d3e5-471e-a191-06d06077fe5b",
   "metadata": {},
   "outputs": [
    {
     "name": "stdout",
     "output_type": "stream",
     "text": [
      "Банкнотаның болжанған класы: 0\n"
     ]
    },
    {
     "name": "stderr",
     "output_type": "stream",
     "text": [
      "C:\\Users\\14ken\\anaconda3\\Lib\\site-packages\\sklearn\\base.py:439: UserWarning: X does not have valid feature names, but DecisionTreeClassifier was fitted with feature names\n",
      "  warnings.warn(\n"
     ]
    }
   ],
   "source": [
    "# Тапсырма 5.2.4\n",
    "# Келесі белгілер векторына ие банкнотаны классификациялаңыз:\n",
    "# Жаңа банкнота үшін белгілер векторы\n",
    "new_sample = np.array([[2.04378, -0.38422, 1.437292, 0.76421]])\n",
    "\n",
    "# Банкнотаны классификациялау\n",
    "predicted_class = clf.predict(new_sample)\n",
    "\n",
    "print(\"Банкнотаның болжанған класы:\", predicted_class[0])\n"
   ]
  },
  {
   "cell_type": "code",
   "execution_count": 33,
   "id": "626f917f-89cf-4378-a657-0d95766e96f0",
   "metadata": {},
   "outputs": [
    {
     "name": "stdout",
     "output_type": "stream",
     "text": [
      "RMSE: 87.97\n",
      "Ағаштың тереңдігі: 11\n"
     ]
    }
   ],
   "source": [
    "#Тапсырма 5.2.5\n",
    "import pandas as pd\n",
    "import numpy as np\n",
    "from sklearn.model_selection import train_test_split\n",
    "from sklearn.tree import DecisionTreeRegressor\n",
    "from sklearn.metrics import mean_squared_error\n",
    "\n",
    "# Деректерді жүктеу\n",
    "file_path = r\"C:\\Users\\14ken\\Downloads\\petrol_consumption.csv\"\n",
    "df = pd.read_csv(file_path)\n",
    "\n",
    "# Тәуелсіз айнымалылар (X) және мақсатты айнымалы (y)\n",
    "X = df.drop(columns=['Petrol_Consumption'])  # Нысан белгілері\n",
    "y = df['Petrol_Consumption']  # Болжанатын мән\n",
    "\n",
    "# Мәліметтерді оқыту және тест жиынына бөлу\n",
    "X_train, X_test, y_train, y_test = train_test_split(X, y, test_size=0.3, random_state=42)\n",
    "\n",
    "# Шешім ағашы регрессиясын құру\n",
    "reg_tree = DecisionTreeRegressor(random_state=42)\n",
    "reg_tree.fit(X_train, y_train)\n",
    "\n",
    "# Болжау жасау\n",
    "y_pred = reg_tree.predict(X_test)\n",
    "\n",
    "# RMSE есептеу\n",
    "rmse = np.sqrt(mean_squared_error(y_test, y_pred))\n",
    "\n",
    "# Ағаштың тереңдігін анықтау\n",
    "tree_depth = reg_tree.get_depth()\n",
    "\n",
    "# Нәтижені шығару\n",
    "print(f\"RMSE: {round(rmse, 2)}\")\n",
    "print(f\"Ағаштың тереңдігі: {tree_depth}\")\n"
   ]
  },
  {
   "cell_type": "code",
   "execution_count": 34,
   "id": "97cb67db-8f34-439c-9c26-a7df219bc3ca",
   "metadata": {},
   "outputs": [
    {
     "name": "stdout",
     "output_type": "stream",
     "text": [
      "Объект [250, 45] → Едем на Автобусе\n",
      "Объект [100, 35] → Едем на Автобусе\n",
      "Объект [400, 30] → Едем на Такси\n",
      "Объект [250, 60] → Едем на Автобусе\n",
      "Объект [300, 50] → Едем на Автобусе\n",
      "Қызыл жапыраққа түсетін объектілер саны: 1\n"
     ]
    }
   ],
   "source": [
    "# Тапсырма 5.2.5 Берілген мәліметтер\n",
    "objects = [\n",
    "    [250, 45],\n",
    "    [100, 35],\n",
    "    [400, 30],\n",
    "    [250, 60],\n",
    "    [300, 50]\n",
    "]\n",
    "\n",
    "# Нәтижелерді сақтау үшін\n",
    "results = []\n",
    "\n",
    "# Шешім ағашын қолмен жүзеге асыру\n",
    "for obj in objects:\n",
    "    money, time = obj\n",
    "    if money < 200:\n",
    "        results.append(\"Едем на Автобусе\")\n",
    "    else:\n",
    "        if time > 40:\n",
    "            results.append(\"Едем на Автобусе\")\n",
    "        else:\n",
    "            results.append(\"Едем на Такси\")\n",
    "\n",
    "# Нәтижені шығару\n",
    "for i, obj in enumerate(objects):\n",
    "    print(f\"Объект {obj} → {results[i]}\")\n",
    "\n",
    "# Қызыл жапыраққа түсетін объектілер санын санау\n",
    "red_leaf_count = results.count(\"Едем на Такси\")\n",
    "print(f\"Қызыл жапыраққа түсетін объектілер саны: {red_leaf_count}\")\n"
   ]
  },
  {
   "cell_type": "code",
   "execution_count": 36,
   "id": "694ccfd0-ef87-4bab-80e2-3785e30323df",
   "metadata": {},
   "outputs": [
    {
     "name": "stdout",
     "output_type": "stream",
     "text": [
      "Логистикалық регрессияның f1-score: 0.7553\n",
      "Шешім ағашының f1-score: 0.7928\n",
      "Бэггингтің f1-score (1500 модель): 0.8182\n"
     ]
    }
   ],
   "source": [
    "#Тапсырма 5.5.2\n",
    "import pandas as pd\n",
    "import numpy as np\n",
    "from sklearn.model_selection import train_test_split\n",
    "from sklearn.preprocessing import StandardScaler\n",
    "from sklearn.linear_model import LogisticRegression\n",
    "from sklearn.tree import DecisionTreeClassifier\n",
    "from sklearn.ensemble import BaggingClassifier\n",
    "from sklearn.metrics import f1_score\n",
    "\n",
    "# Деректерді жүктеу\n",
    "wine = pd.read_csv(r\"C:\\Users\\14ken\\Downloads\\winequality-red.csv\", sep=';')\n",
    "\n",
    "\n",
    "# Мақсатты бағанды өзгерту (classification)\n",
    "wine['quality'] = (wine['quality'] >= 6).astype(int)\n",
    "\n",
    "# Белгілер мен мақсатты баған\n",
    "X = wine.drop(columns=['quality'])\n",
    "y = wine['quality']\n",
    "\n",
    "# Деректерді бөлу\n",
    "X_train, X_test, y_train, y_test = train_test_split(X, y, test_size=0.30, random_state=42)\n",
    "\n",
    "# Логистикалық регрессия\n",
    "scaler = StandardScaler()\n",
    "X_train_scaled = scaler.fit_transform(X_train)\n",
    "X_test_scaled = scaler.transform(X_test)\n",
    "\n",
    "log_reg = LogisticRegression()\n",
    "log_reg.fit(X_train_scaled, y_train)\n",
    "y_pred_log = log_reg.predict(X_test_scaled)\n",
    "f1_log = f1_score(y_test, y_pred_log)\n",
    "\n",
    "# Шешім ағашы\n",
    "tree_clf = DecisionTreeClassifier(random_state=42, max_depth=10)\n",
    "tree_clf.fit(X_train, y_train)\n",
    "y_pred_tree = tree_clf.predict(X_test)\n",
    "f1_tree = f1_score(y_test, y_pred_tree)\n",
    "\n",
    "# Бэггинг (Decision Tree негізінде)\n",
    "bagging_clf = BaggingClassifier(DecisionTreeClassifier(random_state=42, max_depth=10), \n",
    "                                n_estimators=1500, random_state=42)\n",
    "bagging_clf.fit(X_train, y_train)\n",
    "y_pred_bagging = bagging_clf.predict(X_test)\n",
    "f1_bagging = f1_score(y_test, y_pred_bagging)\n",
    "\n",
    "# Нәтижелерді шығару\n",
    "print(f\"Логистикалық регрессияның f1-score: {f1_log:.4f}\")\n",
    "print(f\"Шешім ағашының f1-score: {f1_tree:.4f}\")\n",
    "print(f\"Бэггингтің f1-score (1500 модель): {f1_bagging:.4f}\")\n"
   ]
  },
  {
   "cell_type": "code",
   "execution_count": 38,
   "id": "8b310948-a995-4a05-b7d8-2230c291f510",
   "metadata": {},
   "outputs": [
    {
     "name": "stdout",
     "output_type": "stream",
     "text": [
      "Fitting 3 folds for each of 100 candidates, totalling 300 fits\n",
      "Ең жақсы параметрлер: {'n_estimators': 1000, 'min_samples_split': 5, 'min_samples_leaf': 2, 'max_features': 'sqrt', 'max_depth': 10, 'bootstrap': True}\n",
      "Әдепкі параметрлердегі MSE: 24.57\n",
      "Оңтайлы параметрлердегі MSE: 23.10\n",
      "MSE жақсарту мөлшері: 1.47\n"
     ]
    }
   ],
   "source": [
    "#5.6.1 тапсырмасы\n",
    "import pandas as pd\n",
    "import numpy as np\n",
    "from sklearn.model_selection import train_test_split, RandomizedSearchCV\n",
    "from sklearn.ensemble import RandomForestRegressor\n",
    "from sklearn.metrics import mean_squared_error\n",
    "\n",
    "# Деректерді жүктеу\n",
    "file_path = r\"C:\\Users\\14ken\\Downloads\\temps_extended.csv\" # Файл жолын өзіңізге сәйкес өзгертіңіз\n",
    "weather = pd.read_csv(file_path)\n",
    "\n",
    "# Тәуелсіз және тәуелді айнымалыларды анықтау\n",
    "y = weather['actual']\n",
    "X = weather.drop(['actual', 'weekday', 'month', 'day', 'year'], axis=1)\n",
    "\n",
    "# Деректерді оқыту және тест жиынтықтарына бөлу\n",
    "X_train, X_val, Y_train, Y_val = train_test_split(X, y, test_size=0.3, random_state=42)\n",
    "\n",
    "# Әдепкі параметрлермен кездейсоқ орманды үйрету\n",
    "rf_default = RandomForestRegressor(random_state=42)\n",
    "rf_default.fit(X_train, Y_train)\n",
    "\n",
    "# Болжам жасау және MSE есептеу (әдепкі параметрлер)\n",
    "y_pred_default = rf_default.predict(X_val)\n",
    "mse_default = mean_squared_error(Y_val, y_pred_default)\n",
    "\n",
    "# Гиперпараметрлер торын анықтау\n",
    "n_estimators = [int(x) for x in np.linspace(start=200, stop=2000, num=10)]\n",
    "max_features = ['auto', 'sqrt']\n",
    "max_depth = [int(x) for x in np.linspace(10, 110, num=11)]\n",
    "max_depth.append(None)\n",
    "min_samples_split = [2, 5, 10]\n",
    "min_samples_leaf = [1, 2, 4]\n",
    "bootstrap = [True, False]\n",
    "\n",
    "random_grid = {\n",
    "    'n_estimators': n_estimators,\n",
    "    'max_features': max_features,\n",
    "    'max_depth': max_depth,\n",
    "    'min_samples_split': min_samples_split,\n",
    "    'min_samples_leaf': min_samples_leaf,\n",
    "    'bootstrap': bootstrap\n",
    "}\n",
    "\n",
    "# Кездейсоқ іздеуді орындау\n",
    "rf = RandomForestRegressor(random_state=42)\n",
    "rf_random = RandomizedSearchCV(\n",
    "    estimator=rf,\n",
    "    param_distributions=random_grid,\n",
    "    n_iter=100,\n",
    "    cv=3,\n",
    "    verbose=2,\n",
    "    random_state=42,\n",
    "    n_jobs=-1\n",
    ")\n",
    "rf_random.fit(X_train, Y_train)\n",
    "\n",
    "# Ең жақсы параметрлерді шығару\n",
    "best_params = rf_random.best_params_\n",
    "print(\"Ең жақсы параметрлер:\", best_params)\n",
    "\n",
    "# Оңтайлы параметрлермен модель құру\n",
    "rf_optimized = RandomForestRegressor(**best_params, random_state=42)\n",
    "rf_optimized.fit(X_train, Y_train)\n",
    "\n",
    "# Болжам жасау және MSE есептеу (оңтайлы параметрлер)\n",
    "y_pred_optimized = rf_optimized.predict(X_val)\n",
    "mse_optimized = mean_squared_error(Y_val, y_pred_optimized)\n",
    "\n",
    "# Нәтижелерді шығару\n",
    "print(f\"MSE (әдепкі параметрлер): {mse_default:.2f}\")\n",
    "print(f\"MSE (оңтайлы параметрлер): {mse_optimized:.2f}\")\n",
    "print(f\"MSE жақсарту мөлшері: {mse_default - mse_optimized:.2f}\")"
   ]
  },
  {
   "cell_type": "code",
   "execution_count": 39,
   "id": "3bb7877c-1a10-4730-a2f5-8c77effa43b4",
   "metadata": {},
   "outputs": [
    {
     "data": {
      "image/png": "[encoded data removed]",
      "text/plain": [
       "<Figure size 640x480 with 1 Axes>"
      ]
     },
     "metadata": {},
     "output_type": "display_data"
    }
   ],
   "source": [
    "import matplotlib.pyplot as plt\n",
    "\n",
    "labels = ['Әдепкі параметрлер', 'Оңтайлы параметрлер']\n",
    "mse_values = [24.57, 23.10]\n",
    "\n",
    "plt.bar(labels, mse_values, color=['red', 'green'])\n",
    "plt.ylabel(\"MSE мәні\")\n",
    "plt.title(\"MSE салыстыру (Кездейсоқ орман)\")\n",
    "plt.ylim(22, 26)  # Осьтің шекарасын реттеу\n",
    "plt.show()\n"
   ]
  },
  {
   "cell_type": "code",
   "execution_count": null,
   "id": "57457c28-06f3-479c-8cae-2823639623ba",
   "metadata": {},
   "outputs": [],
   "source": []
  }
 ],
 "metadata": {
  "kernelspec": {
   "display_name": "Python 3 (ipykernel)",
   "language": "python",
   "name": "python3"
  },
  "language_info": {
   "codemirror_mode": {
    "name": "ipython",
    "version": 3
   },
   "file_extension": ".py",
   "mimetype": "text/x-python",
   "name": "python",
   "nbconvert_exporter": "python",
   "pygments_lexer": "ipython3",
   "version": "3.11.7"
  },
  "widgets": {
   "application/vnd.jupyter.widget-state+json": {
    "state": {},
    "version_major": 2,
    "version_minor": 0
   }
  }
 },
 "nbformat": 4,
 "nbformat_minor": 5
}

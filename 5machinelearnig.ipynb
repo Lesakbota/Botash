{
 "cells": [
  {
   "cell_type": "code",
   "execution_count": 5,
   "id": "1509d620-ea2c-41be-8344-6109d50c2985",
   "metadata": {},
   "outputs": [
    {
     "name": "stdout",
     "output_type": "stream",
     "text": [
      "Оптималды шешім:\n",
      "Таңдалған тауарлар саны: [ 1. -0. -0.  1.  0.  1.]\n",
      "Максималды пайда: 17.0\n"
     ]
    }
   ],
   "source": [
    "import numpy as np\n",
    "import cvxpy as cp\n",
    "\n",
    "# 1-қадам: Берілген мәліметтер\n",
    "values = np.array([4, 2, 1, 7, 3, 6])  # Тауарлардың бағасы (пайдасы)\n",
    "weights = np.array([5, 9, 8, 2, 6, 5])  # Тауарлардың салмағы\n",
    "C = 15  # Сөмкенің максималды сыйымдылығы\n",
    "n = len(values)  # Тауар саны\n",
    "\n",
    "# 2-қадам: Сызықтық бағдарламалау есебін құру\n",
    "c = values  # Максималдау үшін оң қалдырамыз\n",
    "A = np.expand_dims(weights, 0)  # Векторды (1,6) өлшемді матрицаға түрлендіреміз\n",
    "b = np.array([C])\n",
    "\n",
    "# 3-қадам: Айнымалыны анықтау\n",
    "x = cp.Variable(shape=n, integer=True)  # Бүтін санды айнымалы\n",
    "\n",
    "# 4-қадам: Шектеулерді енгізу\n",
    "constraint = [A @ x <= b, x >= 0, x <= 1]  # Жалпы салмақ шектеуі және 0 ≤ x ≤ 1 (бинарлы)\n",
    "\n",
    "# 5-қадам: Мақсатты функцияны құру\n",
    "objective = cp.Maximize(c @ x)  # Пайданың ең үлкен мәнін табу\n",
    "\n",
    "# 6-қадам: Мәселені шешу\n",
    "problem = cp.Problem(objective, constraints=constraint)\n",
    "problem.solve()\n",
    "\n",
    "# 7-қадам: Нәтижені шығару\n",
    "print(\"Оптималды шешім:\")\n",
    "print(\"Таңдалған тауарлар саны:\", np.round(x.value))  # Теріс мәндерден құтылу\n",
    "print(\"Максималды пайда:\", problem.value)\n"
   ]
  },
  {
   "cell_type": "code",
   "execution_count": 1,
   "id": "3e54088c-77a8-4995-99e7-fa427072d9a7",
   "metadata": {},
   "outputs": [
    {
     "name": "stdout",
     "output_type": "stream",
     "text": [
      "Оптималды тасымалдау жоспары:\n",
      "A1 -> B1: 110 дана\n",
      "A1 -> B2: 0 дана\n",
      "A1 -> B3: 70 дана\n",
      "A2 -> B1: 0 дана\n",
      "A2 -> B2: 150 дана\n",
      "A2 -> B3: 70 дана\n",
      "Жалпы шығындар: 1900.00 у.е.\n"
     ]
    }
   ],
   "source": [
    "#1\n",
    "from scipy.optimize import linprog\n",
    "import numpy as np\n",
    "\n",
    "# Тасымалдау құны (у.е.)\n",
    "c = [\n",
    "    [2, 5, 3],  # A1 -> (B1, B2, B3)\n",
    "    [7, 7, 6]   # A2 -> (B1, B2, B3)\n",
    "]\n",
    "c = np.array(c).flatten()\n",
    "\n",
    "# Қоймадағы қорлар\n",
    "a = [180, 220]\n",
    "\n",
    "# Сауда орталықтарының қажеттіліктері\n",
    "b = [110, 150, 140]\n",
    "\n",
    "# Қоймадағы қор шектеулері (<= a)\n",
    "A1 = np.array([\n",
    "    [1, 1, 1, 0, 0, 0],  # A1\n",
    "    [0, 0, 0, 1, 1, 1]   # A2\n",
    "])\n",
    "b1 = a\n",
    "\n",
    "# Сауда орталықтарының қажеттіліктері (= b)\n",
    "A2 = np.array([\n",
    "    [1, 0, 0, 1, 0, 0],  # B1\n",
    "    [0, 1, 0, 0, 1, 0],  # B2\n",
    "    [0, 0, 1, 0, 0, 1]   # B3\n",
    "])\n",
    "b2 = b\n",
    "\n",
    "# Сызықтық бағдарламалау есебін шешу\n",
    "result = linprog(c, A_eq=np.vstack((A1, A2)), b_eq=np.hstack((b1, b2)), bounds=(0, None), method=\"highs\")\n",
    "\n",
    "# Нәтижені шығару\n",
    "if result.success:\n",
    "    print(\"Оптималды тасымалдау жоспары:\")\n",
    "    x = result.x.reshape(2, 3)  # Шешімді 2x3 матрицаға түрлендіру\n",
    "    for i in range(2):\n",
    "        for j in range(3):\n",
    "            print(f\"A{i+1} -> B{j+1}: {x[i, j]:.0f} дана\")  # Әр қоймадан әр сауда орталығына жеткізу көлемі\n",
    "    print(f\"Жалпы шығындар: {result.fun:.2f} у.е.\")  # Минималды шығындар\n",
    "else:\n",
    "    print(\"Шешім табылмады\")\n"
   ]
  },
  {
   "cell_type": "code",
   "execution_count": 1,
   "id": "a564e943-02de-4d31-90e8-9c2525ad16f8",
   "metadata": {},
   "outputs": [
    {
     "name": "stdout",
     "output_type": "stream",
     "text": [
      "Minimaldy jalpy shygyn: 6.0\n",
      "Tangdalgan tagayyndau:\n",
      "[[1. 0. 0.]\n",
      " [0. 0. 1.]\n",
      " [0. 1. 0.]]\n"
     ]
    }
   ],
   "source": [
    "#2Мысал\n",
    "import numpy as np\n",
    "import cvxpy as cp\n",
    "\n",
    "# 1-қадам: Берілген шығындар матрицасы (cij)\n",
    "shygyn = np.array([\n",
    "    [2, 3, 4],\n",
    "    [1, 5, 2],\n",
    "    [5, 2, 3]\n",
    "])\n",
    "\n",
    "n = shygyn.shape[0]  # Адамдар мен тапсырмалар саны (n x n)\n",
    "\n",
    "# 2-қадам: Айнымалыларды анықтау (xij - қай адам қандай тапсырманы орындайтынын білдіреді)\n",
    "tangdau = cp.Variable((n, n), boolean=True)\n",
    "\n",
    "# 3-қадам: Минимизациялау мақсатты функциясы (жалпы шығын)\n",
    "maksat = cp.sum(cp.multiply(shygyn, tangdau))\n",
    "\n",
    "# 4-қадам: Шектеулерді орнату\n",
    "shekteu = []\n",
    "\n",
    "# Әр адам тек бір тапсырманы орындауы керек\n",
    "for i in range(n):\n",
    "    shekteu.append(cp.sum(tangdau[i, :]) == 1)\n",
    "\n",
    "# Әр тапсырманы тек бір адам орындауы керек\n",
    "for j in range(n):\n",
    "    shekteu.append(cp.sum(tangdau[:, j]) == 1)\n",
    "\n",
    "# 5-қадам: Мәселені шешу\n",
    "masele = cp.Problem(cp.Minimize(maksat), shekteu)\n",
    "masele.solve(solver=cp.GLPK_MI)\n",
    "\n",
    "# 6-қадам: Нәтижені шығару\n",
    "print(\"Minimaldy jalpy shygyn:\", masele.value)\n",
    "print(\"Tangdalgan tagayyndau:\")\n",
    "print(tangdau.value)\n"
   ]
  },
  {
   "cell_type": "code",
   "execution_count": 10,
   "id": "d94c5fd2-1180-4c41-8043-68b8640d8130",
   "metadata": {},
   "outputs": [
    {
     "name": "stdout",
     "output_type": "stream",
     "text": [
      "Таңдалған тағайындаулар (Орындаушы -> Тапсырма): [(1, 5), (2, 4), (3, 2), (4, 3), (5, 1)]\n",
      "Минималды шығын: 32\n"
     ]
    }
   ],
   "source": [
    "#Тапсыпма 2\n",
    "import numpy as np\n",
    "from scipy.optimize import linear_sum_assignment\n",
    "\n",
    "# ✅ Берілген шығындар матрицасы (әр орындаушыға арналған әр тапсырманың бағасы)\n",
    "cost_matrix = np.array([\n",
    "    [1000, 12, 10, 19, 8],\n",
    "    [12, 1000, 3, 7, 2],\n",
    "    [10, 3, 1000, 6, 20],\n",
    "    [19, 7, 6, 1000, 4],\n",
    "    [8, 2, 20, 4, 1000]\n",
    "])\n",
    "\n",
    "# ✅ Венгерлік әдісті қолдану арқылы оңтайлы тағайындауды табу\n",
    "workers, tasks = linear_sum_assignment(cost_matrix)\n",
    "\n",
    "# ✅ Орындаушы мен тапсырмаларды жұптау\n",
    "assignments = list(zip(workers + 1, tasks + 1))  # +1, себебі индекстер 0-ден басталады\n",
    "\n",
    "# ✅ Ең аз жалпы шығынды есептеу\n",
    "min_cost = cost_matrix[workers, tasks].sum()\n",
    "\n",
    "# ✅ Нәтижелерді шығару\n",
    "print(\"Таңдалған тағайындаулар (Орындаушы -> Тапсырма):\", assignments)\n",
    "print(\"Минималды шығын:\", min_cost)\n"
   ]
  },
  {
   "cell_type": "code",
   "execution_count": 15,
   "id": "3dc79661-bfdb-4347-be8a-a61c4fd7f98b",
   "metadata": {},
   "outputs": [
    {
     "name": "stdout",
     "output_type": "stream",
     "text": [
      "Шешім табылмады.\n"
     ]
    }
   ],
   "source": [
    "from pulp import LpProblem, LpVariable, lpSum, LpMinimize, LpStatus, value, PULP_CBC_CMD\n",
    "\n",
    "# Нүктелер жиыны\n",
    "nodes = [\"A\", \"B\", \"C\", \"D\", \"E\"]\n",
    "edges = {\n",
    "    (\"A\", \"B\"): 12, (\"A\", \"C\"): 10, (\"A\", \"D\"): 19, (\"A\", \"E\"): 8,\n",
    "    (\"B\", \"C\"): 3, (\"B\", \"D\"): 7, (\"B\", \"E\"): 2,\n",
    "    (\"C\", \"D\"): 6, (\"C\", \"E\"): 20,\n",
    "    (\"D\", \"E\"): 4\n",
    "}\n",
    "\n",
    "# Айнымалыларды анықтау\n",
    "x = LpVariable.dicts(\"x\", edges, 0, 1, cat=\"Binary\")\n",
    "\n",
    "# Модель құру\n",
    "model = LpProblem(\"TSP\", LpMinimize)\n",
    "\n",
    "# Мақсатты функция: Жол ұзындығын минимизациялау\n",
    "model += lpSum(edges[i, j] * x[i, j] for i, j in edges), \"Total Distance\"\n",
    "\n",
    "# Әр нүктеден бір шығу және бір кіру\n",
    "for node in nodes:\n",
    "    model += lpSum(x[i, j] for i, j in edges if i == node) >= 1, f\"Out_{node}\"\n",
    "    model += lpSum(x[i, j] for i, j in edges if j == node) >= 1, f\"In_{node}\"\n",
    "\n",
    "\n",
    "# Шеңберлік шектеу қою (MTZ әдісі арқылы)\n",
    "u = LpVariable.dicts(\"u\", nodes, 2, len(nodes), cat=\"Integer\")\n",
    "for i, j in edges:\n",
    "    if i != \"A\" and j != \"A\":  \n",
    "        model += u[i] - u[j] + (len(nodes) - 1) * x[i, j] <= len(nodes) - 2\n",
    "\n",
    "# Модельді шешу\n",
    "model.solve(PULP_CBC_CMD(msg=True))\n",
    "\n",
    "\n",
    "# Нәтижелерді шығару\n",
    "if LpStatus[model.status] == \"Optimal\":\n",
    "    print(\"Ең қысқа жол табылды:\")\n",
    "    for (i, j) in edges:\n",
    "        if value(x[i, j]) > 0.5:  # 1-ге жақын мәндерді тексеру\n",
    "            print(f\"{i} -> {j}\")\n",
    "    print(\"Ең қысқа жол ұзындығы:\", value(model.objective))\n",
    "else:\n",
    "    print(\"Шешім табылмады.\")\n"
   ]
  },
  {
   "cell_type": "code",
   "execution_count": 21,
   "id": "7241df99-f44e-45e3-837d-cac16488ebf1",
   "metadata": {},
   "outputs": [
    {
     "name": "stdout",
     "output_type": "stream",
     "text": [
      "Минимум нүктесі: (x, y) = (1.000039, 1.000016)\n",
      "Итерациялар саны: 458\n"
     ]
    }
   ],
   "source": [
    "import numpy as np\n",
    "\n",
    "def gradient_f(x, y):\n",
    "    df_dx = 4*x - 4*y\n",
    "    df_dy = -4*x + 4*y**3\n",
    "    return np.array([df_dx, df_dy])\n",
    "\n",
    "def gradient_descent(learning_rate=0.01, tolerance=1e-6, max_iters=10000):\n",
    "    x, y = np.random.rand(2) * 10  # Бастапқы нүкте\n",
    "    for i in range(max_iters):\n",
    "        grad = gradient_f(x, y)\n",
    "        x_new, y_new = x - learning_rate * grad[0], y - learning_rate * grad[1]\n",
    "        \n",
    "        if np.linalg.norm([x_new - x, y_new - y]) < tolerance:\n",
    "            break\n",
    "        x, y = x_new, y_new\n",
    "    \n",
    "    return x, y, i\n",
    "\n",
    "x_min, y_min, iterations = gradient_descent()\n",
    "print(f\"Минимум нүктесі: (x, y) = ({x_min:.6f}, {y_min:.6f})\")\n",
    "print(f\"Итерациялар саны: {iterations}\")"
   ]
  },
  {
   "cell_type": "code",
   "execution_count": 22,
   "id": "4575cc6b-37e8-4b8f-ab7f-cec029d169ce",
   "metadata": {},
   "outputs": [
    {
     "name": "stdout",
     "output_type": "stream",
     "text": [
      "Минимум нүктесі: (x, y) = (1.000000, 1.000000)\n",
      "Итерациялар саны: 234\n"
     ]
    }
   ],
   "source": [
    "import numpy as np\n",
    "\n",
    "# Функция\n",
    "def f(x, y):\n",
    "    return 2*x**2 - 4*x*y + y**4 + 2\n",
    "\n",
    "# Градиенттер\n",
    "def grad_f(x, y):\n",
    "    df_dx = 4*x - 4*y\n",
    "    df_dy = -4*x + 4*y**3\n",
    "    return np.array([df_dx, df_dy])\n",
    "\n",
    "# Бастапқы нүкте (анықталған аймақтан таңдау)\n",
    "x, y = np.random.uniform(0.5, 1.5, 2)\n",
    "\n",
    "# Параметрлер\n",
    "alpha = 0.1  # Бастапқы оқу жылдамдығы\n",
    "beta = 0.9    # Momentum коэффициенті\n",
    "v_x, v_y = 0, 0\n",
    "tol = 1e-6    # Тоқтату шарты\n",
    "max_iter = 1000  # Максималды итерация саны\n",
    "\n",
    "# Градиентті төмендеу алгоритмі\n",
    "for iteration in range(max_iter):\n",
    "    grad = grad_f(x, y)\n",
    "    \n",
    "    # Егер градиент өте аз болса, тоқтаймыз\n",
    "    if np.linalg.norm(grad) < tol:\n",
    "        break\n",
    "    \n",
    "    # Адаптивті learning rate\n",
    "    alpha = 0.1 / (1 + 0.01 * iteration)\n",
    "    \n",
    "    # Momentum\n",
    "    v_x = beta * v_x + (1 - beta) * grad[0]\n",
    "    v_y = beta * v_y + (1 - beta) * grad[1]\n",
    "    \n",
    "    # Жаңарту\n",
    "    x -= alpha * v_x\n",
    "    y -= alpha * v_y\n",
    "\n",
    "print(f\"Минимум нүктесі: (x, y) = ({x:.6f}, {y:.6f})\")\n",
    "print(f\"Итерациялар саны: {iteration}\")\n"
   ]
  },
  {
   "cell_type": "code",
   "execution_count": null,
   "id": "795cfa6a-5e96-4b2e-b668-e9225360342e",
   "metadata": {},
   "outputs": [],
   "source": []
  }
 ],
 "metadata": {
  "kernelspec": {
   "display_name": "Python 3 (ipykernel)",
   "language": "python",
   "name": "python3"
  },
  "language_info": {
   "codemirror_mode": {
    "name": "ipython",
    "version": 3
   },
   "file_extension": ".py",
   "mimetype": "text/x-python",
   "name": "python",
   "nbconvert_exporter": "python",
   "pygments_lexer": "ipython3",
   "version": "3.11.7"
  }
 },
 "nbformat": 4,
 "nbformat_minor": 5
}

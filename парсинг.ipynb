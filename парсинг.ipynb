{
 "cells": [
  {
   "cell_type": "code",
   "execution_count": 12,
   "id": "60b61968-d1d3-453e-a956-b93141f47e12",
   "metadata": {},
   "outputs": [
    {
     "name": "stdout",
     "output_type": "stream",
     "text": [
      "                                   Название             Цена  \\\n",
      "0  4-комнатная квартира · 100 м² · 5/5 этаж     71 000 000 〒   \n",
      "1          3-комнатная квартира · 109.59 м²  от 73 973 250 〒   \n",
      "2           3-комнатная квартира · 81.58 м²  от 57 269 160 〒   \n",
      "3  2-комнатная квартира · 90 м² · 5/13 этаж     70 000 000 〒   \n",
      "4           3-комнатная квартира · 80.91 м²  от 57 203 370 〒   \n",
      "\n",
      "                                       Адрес  \\\n",
      "0  Бостандыкский р-н, Сатпаева 56 — Айманова   \n",
      "1    Турксибский р-н, Кульджинский тр-т 80/1   \n",
      "2    Турксибский р-н, Кульджинский тр-т 80/1   \n",
      "3             Ауэзовский р-н, мкр Мамыр-7 21   \n",
      "4    Турксибский р-н, Кульджинский тр-т 80/1   \n",
      "\n",
      "                               Ссылка  \n",
      "0  https://krisha.kz/a/show/684969884  \n",
      "1  https://krisha.kz/a/show/760760842  \n",
      "2  https://krisha.kz/a/show/760760837  \n",
      "3  https://krisha.kz/a/show/666519900  \n",
      "4  https://krisha.kz/a/show/760760836  \n"
     ]
    }
   ],
   "source": [
    "import time\n",
    "import pandas as pd\n",
    "from selenium import webdriver\n",
    "from selenium.webdriver.chrome.service import Service\n",
    "from selenium.webdriver.chrome.options import Options\n",
    "from bs4 import BeautifulSoup\n",
    "from selenium.webdriver.common.by import By\n",
    "from selenium.webdriver.support.ui import WebDriverWait\n",
    "from selenium.webdriver.support import expected_conditions as EC\n",
    "\n",
    "# Параметр үшін күту функциясы\n",
    "def wait_for(driver, by, value, timeout=5):\n",
    "    WebDriverWait(driver, timeout).until(EC.presence_of_element_located((by, value)))\n",
    "\n",
    "# Chrome параметрлері\n",
    "options = Options()\n",
    "options.add_argument(\"--headless\")  # Браузерсіз режим\n",
    "options.add_argument(\"--no-sandbox\")\n",
    "options.add_argument(\"--disable-dev-shm-usage\")\n",
    "\n",
    "# ChromeDriver жолын көрсету\n",
    "service = Service(r\"C:\\Users\\14ken\\Downloads\\chromedriver-win64\\chromedriver-win64\\chromedriver.exe\")\n",
    "driver = webdriver.Chrome(service=service, options=options)\n",
    "\n",
    "# Сайттың негізгі URL-сі\n",
    "url_base = \"https://krisha.kz/prodazha/kvartiry/almaty/?page=\"\n",
    "data_list = []  # Мәліметтер тізімі\n",
    "pages = 16  # Парақтар саны\n",
    "\n",
    "for page in range(1, pages + 1): \n",
    "    url = url_base + str(page)\n",
    "\n",
    "    driver.get(url)\n",
    "    time.sleep(2)  # Парақтың жүктелуін күту\n",
    "\n",
    "    # Элементтерді күту\n",
    "    wait_for(driver, By.CLASS_NAME, \"a-card\")\n",
    "\n",
    "    soup = BeautifulSoup(driver.page_source, \"html.parser\")\n",
    "    listings = soup.find_all(\"div\", class_=\"a-card\")\n",
    "\n",
    "    for listing in listings:\n",
    "        try:\n",
    "            # Пәтер туралы негізгі мәліметтерді алу\n",
    "            link = \"https://krisha.kz\" + listing.find(\"a\", class_=\"a-card__title\")[\"href\"]\n",
    "            title = listing.find(\"a\", class_=\"a-card__title\").text.strip()\n",
    "            price = listing.find(\"div\", class_=\"a-card__price\").text.strip() if listing.find(\"div\", class_=\"a-card__price\") else \"Н/Д\"\n",
    "            location = listing.find(\"div\", class_=\"a-card__subtitle\").text.strip() if listing.find(\"div\", class_=\"a-card__subtitle\") else \"Н/Д\"\n",
    "            \n",
    "            # Мәліметтерді тізімге қосу\n",
    "            data_list.append([title, price, location, link])\n",
    "\n",
    "        except Exception as e:\n",
    "            print(f\"Қате: {e}\")\n",
    "            continue\n",
    "\n",
    "# Браузерді жапу\n",
    "driver.quit()\n",
    "\n",
    "# Мәліметтерді DataFrame форматына келтіру\n",
    "df = pd.DataFrame(data_list, columns=[\"Название\", \"Цена\", \"Адрес\", \"Ссылка\"])\n",
    "\n",
    "\n",
    "# Сохранение данных в CSV\n",
    "df.to_csv('data.csv', index=False, encoding=\"utf-8\")\n",
    "\n",
    "# Вывод первых нескольких строк\n",
    "print(df.head())\n"
   ]
  },
  {
   "cell_type": "code",
   "execution_count": 13,
   "id": "ac139bf9-14fc-466d-aef2-a909d200791f",
   "metadata": {},
   "outputs": [
    {
     "name": "stdout",
     "output_type": "stream",
     "text": [
      "Мәліметтерді тексеру:\n",
      "<class 'pandas.core.frame.DataFrame'>\n",
      "RangeIndex: 323 entries, 0 to 322\n",
      "Data columns (total 4 columns):\n",
      " #   Column    Non-Null Count  Dtype \n",
      "---  ------    --------------  ----- \n",
      " 0   Название  323 non-null    object\n",
      " 1   Цена      323 non-null    object\n",
      " 2   Адрес     323 non-null    object\n",
      " 3   Ссылка    323 non-null    object\n",
      "dtypes: object(4)\n",
      "memory usage: 10.2+ KB\n",
      "None\n"
     ]
    }
   ],
   "source": [
    "import pandas as pd\n",
    "\n",
    "# 1. Мәліметтерді жүктеу\n",
    "data = pd.read_csv('data.csv')\n",
    "\n",
    "# Мәліметтердің құрылымын тексереміз\n",
    "print(\"Мәліметтерді тексеру:\")\n",
    "print(data.info())\n"
   ]
  },
  {
   "cell_type": "code",
   "execution_count": 14,
   "id": "046a6dbd-d3d2-4aa5-b822-e6a075cb6470",
   "metadata": {},
   "outputs": [
    {
     "name": "stdout",
     "output_type": "stream",
     "text": [
      "\n",
      "Пропущенные мәндер саны:\n",
      "Название    0\n",
      "Цена        0\n",
      "Адрес       0\n",
      "Ссылка      0\n",
      "dtype: int64\n"
     ]
    }
   ],
   "source": [
    "# 2. Пропущенные мәндерді тексеру\n",
    "print(\"\\nПропущенные мәндер саны:\")\n",
    "print(data.isnull().sum())\n"
   ]
  },
  {
   "cell_type": "code",
   "execution_count": 15,
   "id": "e9b479c2-b484-4883-9a7e-0b33a4e44e01",
   "metadata": {},
   "outputs": [
    {
     "name": "stdout",
     "output_type": "stream",
     "text": [
      "                                   Название      Цена  \\\n",
      "0  4-комнатная квартира · 100 м² · 5/5 этаж  71000000   \n",
      "1          3-комнатная квартира · 109.59 м²  73973250   \n",
      "2           3-комнатная квартира · 81.58 м²  57269160   \n",
      "3  2-комнатная квартира · 90 м² · 5/13 этаж  70000000   \n",
      "4           3-комнатная квартира · 80.91 м²  57203370   \n",
      "\n",
      "                                       Адрес  \\\n",
      "0  Бостандыкский р-н, Сатпаева 56 — Айманова   \n",
      "1    Турксибский р-н, Кульджинский тр-т 80/1   \n",
      "2    Турксибский р-н, Кульджинский тр-т 80/1   \n",
      "3             Ауэзовский р-н, мкр Мамыр-7 21   \n",
      "4    Турксибский р-н, Кульджинский тр-т 80/1   \n",
      "\n",
      "                               Ссылка  \n",
      "0  https://krisha.kz/a/show/684969884  \n",
      "1  https://krisha.kz/a/show/760760842  \n",
      "2  https://krisha.kz/a/show/760760837  \n",
      "3  https://krisha.kz/a/show/666519900  \n",
      "4  https://krisha.kz/a/show/760760836  \n",
      "\n",
      "'Цена' бағаны түзетілгеннен кейін:\n",
      "<class 'pandas.core.frame.DataFrame'>\n",
      "RangeIndex: 323 entries, 0 to 322\n",
      "Data columns (total 4 columns):\n",
      " #   Column    Non-Null Count  Dtype \n",
      "---  ------    --------------  ----- \n",
      " 0   Название  323 non-null    object\n",
      " 1   Цена      323 non-null    int64 \n",
      " 2   Адрес     323 non-null    object\n",
      " 3   Ссылка    323 non-null    object\n",
      "dtypes: int64(1), object(3)\n",
      "memory usage: 10.2+ KB\n",
      "None\n"
     ]
    }
   ],
   "source": [
    "# 'Цена' бағанында қате символдарды алып тастаймыз\n",
    "data['Цена'] = data['Цена'].replace({'\\xa0': '', '〒': '', 'от': ''}, regex=True)\n",
    "\n",
    "# Бағандағы деректер типін тексереміз\n",
    "data['Цена'] = pd.to_numeric(data['Цена'], errors='coerce')\n",
    "\n",
    "# Мәліметтерді тексереміз\n",
    "print(data.head())  # Бастапқы деректерді шығару\n",
    "\n",
    "# Мәліметтер туралы толық ақпарат\n",
    "print(\"\\n'Цена' бағаны түзетілгеннен кейін:\")\n",
    "print(data.info())\n",
    "\n"
   ]
  },
  {
   "cell_type": "code",
   "execution_count": 16,
   "id": "adb70b1a-5386-409f-a065-2bf660755025",
   "metadata": {},
   "outputs": [
    {
     "name": "stdout",
     "output_type": "stream",
     "text": [
      "\n",
      "'Цена' бағаны медианамен толтырылғаннан кейін:\n",
      "                                   Название      Цена  \\\n",
      "0  4-комнатная квартира · 100 м² · 5/5 этаж  71000000   \n",
      "1          3-комнатная квартира · 109.59 м²  73973250   \n",
      "2           3-комнатная квартира · 81.58 м²  57269160   \n",
      "3  2-комнатная квартира · 90 м² · 5/13 этаж  70000000   \n",
      "4           3-комнатная квартира · 80.91 м²  57203370   \n",
      "\n",
      "                                       Адрес  \\\n",
      "0  Бостандыкский р-н, Сатпаева 56 — Айманова   \n",
      "1    Турксибский р-н, Кульджинский тр-т 80/1   \n",
      "2    Турксибский р-н, Кульджинский тр-т 80/1   \n",
      "3             Ауэзовский р-н, мкр Мамыр-7 21   \n",
      "4    Турксибский р-н, Кульджинский тр-т 80/1   \n",
      "\n",
      "                               Ссылка  \n",
      "0  https://krisha.kz/a/show/684969884  \n",
      "1  https://krisha.kz/a/show/760760842  \n",
      "2  https://krisha.kz/a/show/760760837  \n",
      "3  https://krisha.kz/a/show/666519900  \n",
      "4  https://krisha.kz/a/show/760760836  \n"
     ]
    }
   ],
   "source": [
    "# 5. Пропущенные мәндерді медианамен толтыру\n",
    "data['Цена'] = data['Цена'].fillna(data['Цена'].median())\n",
    "\n",
    "# Мәліметтерді тексереміз\n",
    "print(\"\\n'Цена' бағаны медианамен толтырылғаннан кейін:\")\n",
    "print(data.head())\n"
   ]
  },
  {
   "cell_type": "code",
   "execution_count": 17,
   "id": "ad43727d-6349-4043-9ed3-29eaf55ce99d",
   "metadata": {},
   "outputs": [
    {
     "name": "stdout",
     "output_type": "stream",
     "text": [
      "                                   Название      Цена  \\\n",
      "0  4-комнатная квартира · 100 м² · 5/5 этаж  71000000   \n",
      "1          3-комнатная квартира · 109.59 м²  73973250   \n",
      "2           3-комнатная квартира · 81.58 м²  57269160   \n",
      "3  2-комнатная квартира · 90 м² · 5/13 этаж  70000000   \n",
      "4           3-комнатная квартира · 80.91 м²  57203370   \n",
      "\n",
      "                                       Адрес  \\\n",
      "0  Бостандыкский р-н, Сатпаева 56 — Айманова   \n",
      "1    Турксибский р-н, Кульджинский тр-т 80/1   \n",
      "2    Турксибский р-н, Кульджинский тр-т 80/1   \n",
      "3             Ауэзовский р-н, мкр Мамыр-7 21   \n",
      "4    Турксибский р-н, Кульджинский тр-т 80/1   \n",
      "\n",
      "                               Ссылка  Район  \n",
      "0  https://krisha.kz/a/show/684969884      4  \n",
      "1  https://krisha.kz/a/show/760760842      8  \n",
      "2  https://krisha.kz/a/show/760760837      8  \n",
      "3  https://krisha.kz/a/show/666519900      3  \n",
      "4  https://krisha.kz/a/show/760760836      8  \n"
     ]
    }
   ],
   "source": [
    "import numpy as np\n",
    "\n",
    "# Райондарды кодтау\n",
    "raion = {\n",
    "    \"Алатауский\": 1, \"Алмалинский\": 2, \"Ауэзовский\": 3, \"Бостандыкский\": 4,\n",
    "    \"Жетысуский\": 5, \"Медеуский\": 6, \"Наурызбайский\": 7, \"Турксибский\": 8\n",
    "}\n",
    "\n",
    "# Райондарды кодтау функциясы\n",
    "def codirovka(address):\n",
    "    address_str = str(address).lower()  # Мәтінді кіші әріптерге ауыстыру\n",
    "    for district in raion.keys():\n",
    "        if district.lower() in address_str:  # Егер аудан мекен-жайда болса\n",
    "            return raion[district]\n",
    "    return np.nan  # Аудан табылмаса, NaN қайтару\n",
    "\n",
    "# \"Адрес\" бағанына кодтау қолдану\n",
    "data[\"Район\"] = data[\"Адрес\"].apply(codirovka)\n",
    "\n",
    "# Санға түрлендіру (NaN мәндерімен жұмыс жасау үшін 'Int64' қолданылады)\n",
    "data['Район'] = data['Район'].astype('Int64')\n",
    "\n",
    "# Нәтижені тексеру\n",
    "print(data.head())\n",
    "\n"
   ]
  },
  {
   "cell_type": "code",
   "execution_count": 18,
   "id": "6e2adef6-19f4-4e8c-8d6e-21ece3653582",
   "metadata": {},
   "outputs": [
    {
     "data": {
      "image/png": "[encoded data removed]",
      "text/plain": [
       "<Figure size 800x600 with 2 Axes>"
      ]
     },
     "metadata": {},
     "output_type": "display_data"
    }
   ],
   "source": [
    "# Корреляциялық талдау – екі немесе одан да көп айнымалылар арасындағы байланысты зерттейтін статистикалық әдіс. Ол бір айнымалының өзгеруі екіншісіне қалай әсер ететінін анықтауға көмектеседі.\n",
    "correlation_matrix = data[['Цена', 'Район']].corr()   #±1-ге жақын болса, байланыс күшті.\n",
    "\n",
    "# Корреляциялық матрицаны визуализациялау\n",
    "plt.figure(figsize=(8, 6))\n",
    "sns.heatmap(correlation_matrix, annot=True, cmap='coolwarm', fmt='.2f', linewidths=0.5)\n",
    "plt.title('Корреляциялық матрица')\n",
    "plt.show()\n"
   ]
  },
  {
   "cell_type": "code",
   "execution_count": 19,
   "id": "1e472ba9-75b7-4dae-9ffe-5aad1d17658b",
   "metadata": {},
   "outputs": [
    {
     "data": {
      "image/png": "[encoded data removed]",
      "text/plain": [
       "<Figure size 1000x600 with 1 Axes>"
      ]
     },
     "metadata": {},
     "output_type": "display_data"
    }
   ],
   "source": [
    "import matplotlib.pyplot as plt\n",
    "import seaborn as sns\n",
    "\n",
    "# Бөлме саны бағанын алу (мысалы, бірінші сөзді алу)\n",
    "data[\"Бөлме саны\"] = data[\"Название\"].str.extract(r\"(\\d+)-комнатная\").astype(\"Int64\")\n",
    "\n",
    "# Боксплот салу\n",
    "plt.figure(figsize=(10, 6))\n",
    "sns.boxplot(x=data[\"Бөлме саны\"], y=data[\"Цена\"])\n",
    "plt.xlabel(\"Бөлме саны\")\n",
    "plt.ylabel(\"Баға\")\n",
    "plt.title(\"Бөлме санына байланысты бағаның өзгеруі\")\n",
    "plt.grid()\n",
    "plt.show()\n"
   ]
  },
  {
   "cell_type": "code",
   "execution_count": 20,
   "id": "2bfe3b6e-5198-4beb-8304-245ec3ca5bec",
   "metadata": {},
   "outputs": [
    {
     "name": "stdout",
     "output_type": "stream",
     "text": [
      "Index(['Название', 'Цена', 'Адрес', 'Ссылка', 'Район', 'Бөлме саны'], dtype='object')\n"
     ]
    }
   ],
   "source": [
    "# Баған атауларын шығару\n",
    "print(data.columns)\n"
   ]
  },
  {
   "cell_type": "code",
   "execution_count": 21,
   "id": "a3ca6919-7d17-4781-865b-cc93829d9f47",
   "metadata": {},
   "outputs": [],
   "source": [
    "data.dropna(subset=[\"Район\"], inplace=True)  # Удалить строки с NaN в столбце 'Район'\n",
    "data[\"Район\"].fillna(\"Неизвестно\", inplace=True)  # Заполнить пропущенные значения в 'Район' строкой\n"
   ]
  },
  {
   "cell_type": "code",
   "execution_count": 22,
   "id": "97e61c3e-de8f-4ee5-a45c-e39842679272",
   "metadata": {},
   "outputs": [
    {
     "name": "stdout",
     "output_type": "stream",
     "text": [
      "Train data size: (248, 3)\n",
      "Test data size: (63, 3)\n"
     ]
    }
   ],
   "source": [
    "from sklearn.model_selection import train_test_split\n",
    "from sklearn.preprocessing import LabelEncoder\n",
    "\n",
    "# Кодируем категориальные переменные (например, Район и Адрес)\n",
    "encoder = LabelEncoder()\n",
    "data['Район'] = encoder.fit_transform(data['Район'])\n",
    "data['Адрес'] = encoder.fit_transform(data['Адрес'])\n",
    "\n",
    "# X - Бұл тәуелсіз айнымалылар (немесе белгілер), y - тәуелді айнымалы (болжанатын мәндер)\n",
    "X = data[['Адрес', 'Бөлме саны', 'Район']]  # Айнымалылар\n",
    "y = data['Цена']  # Баға (Целевая переменная)\n",
    "\n",
    "# Тренировка және тест жиынтығына бөлу (80% - тренировка, 20% - тест)\n",
    "X_train, X_test, y_train, y_test = train_test_split(X, y, test_size=0.2, random_state=42)\n",
    "\n",
    "# Мәліметтерді тексереміз\n",
    "print(f\"Train data size: {X_train.shape}\")\n",
    "print(f\"Test data size: {X_test.shape}\")\n",
    "\n"
   ]
  },
  {
   "cell_type": "code",
   "execution_count": 23,
   "id": "46d12c9e-16aa-4ed4-afdf-f0db63fd36fd",
   "metadata": {},
   "outputs": [
    {
     "name": "stdout",
     "output_type": "stream",
     "text": [
      "📉 MAE: 22,490,682 тенге\n"
     ]
    }
   ],
   "source": [
    "import pandas as pd\n",
    "from sklearn.model_selection import train_test_split\n",
    "from sklearn.linear_model import LinearRegression\n",
    "from sklearn.preprocessing import LabelEncoder\n",
    "from sklearn.metrics import mean_absolute_error\n",
    "\n",
    "# Кодируем категориальные переменные (например, Район и Адрес) с помощью LabelEncoder\n",
    "encoder = LabelEncoder()\n",
    "data['Район'] = encoder.fit_transform(data['Район'])\n",
    "data['Адрес'] = encoder.fit_transform(data['Адрес'])\n",
    "\n",
    "# Признаки (независимые переменные)\n",
    "X = data[['Район', 'Бөлме саны', 'Адрес']]  # Признаки\n",
    "\n",
    "# Целевая переменная (цена)\n",
    "y = data['Цена']  # Цена (целевой столбец)\n",
    "\n",
    "# Разделение на тренировочную и тестовую выборки\n",
    "X_train, X_test, y_train, y_test = train_test_split(X, y, test_size=0.2, random_state=42)\n",
    "\n",
    "# Обучение модели линейной регрессии\n",
    "model = LinearRegression()\n",
    "model.fit(X_train, y_train)\n",
    "\n",
    "# Прогнозирование и оценка качества модели\n",
    "y_pred = model.predict(X_test)\n",
    "\n",
    "# Оценка качества модели (MAE - средняя абсолютная ошибка)\n",
    "mae = mean_absolute_error(y_test, y_pred)\n",
    "print(f\"📉 MAE: {mae:,.0f} тенге\")\n"
   ]
  },
  {
   "cell_type": "code",
   "execution_count": null,
   "id": "fb7c79ab-40d4-40d6-9be5-fd26bff260d2",
   "metadata": {},
   "outputs": [],
   "source": []
  },
  {
   "cell_type": "code",
   "execution_count": null,
   "id": "b9aa9cd9-50c0-4e24-a6f0-1284cc20b4d1",
   "metadata": {},
   "outputs": [],
   "source": []
  }
 ],
 "metadata": {
  "kernelspec": {
   "display_name": "Python 3 (ipykernel)",
   "language": "python",
   "name": "python3"
  },
  "language_info": {
   "codemirror_mode": {
    "name": "ipython",
    "version": 3
   },
   "file_extension": ".py",
   "mimetype": "text/x-python",
   "name": "python",
   "nbconvert_exporter": "python",
   "pygments_lexer": "ipython3",
   "version": "3.11.7"
  }
 },
 "nbformat": 4,
 "nbformat_minor": 5
}
